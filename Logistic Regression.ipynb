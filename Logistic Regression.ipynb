{
 "cells": [
  {
   "cell_type": "code",
   "execution_count": 2,
   "metadata": {
    "colab": {
     "base_uri": "https://localhost:8080/",
     "height": 71
    },
    "colab_type": "code",
    "executionInfo": {
     "elapsed": 1085,
     "status": "ok",
     "timestamp": 1588565226552,
     "user": {
      "displayName": "Harshadeep Vattikunta",
      "photoUrl": "https://lh3.googleusercontent.com/a-/AOh14GilWFFCk3AwhK6IoTPhRCX_DvodGy2cb2u8i0GspA=s64",
      "userId": "02200800715866636986"
     },
     "user_tz": -330
    },
    "id": "TXb7HZfjA6-s",
    "outputId": "c64125bc-aa37-44ed-ef27-dfa79ccbf479"
   },
   "outputs": [
    {
     "name": "stderr",
     "output_type": "stream",
     "text": [
      "/usr/local/lib/python3.6/dist-packages/statsmodels/tools/_testing.py:19: FutureWarning: pandas.util.testing is deprecated. Use the functions in the public API at pandas.testing instead.\n",
      "  import pandas.util.testing as tm\n"
     ]
    }
   ],
   "source": [
    "#Importing Libraries\n",
    "import numpy as np\n",
    "import matplotlib.pyplot as plt\n",
    "import pandas as pd\n",
    "import seaborn as sns"
   ]
  },
  {
   "cell_type": "code",
   "execution_count": 3,
   "metadata": {
    "colab": {
     "base_uri": "https://localhost:8080/",
     "height": 292
    },
    "colab_type": "code",
    "executionInfo": {
     "elapsed": 925,
     "status": "ok",
     "timestamp": 1588565228321,
     "user": {
      "displayName": "Harshadeep Vattikunta",
      "photoUrl": "https://lh3.googleusercontent.com/a-/AOh14GilWFFCk3AwhK6IoTPhRCX_DvodGy2cb2u8i0GspA=s64",
      "userId": "02200800715866636986"
     },
     "user_tz": -330
    },
    "id": "Un3kdwWlBNCY",
    "outputId": "cf4a1811-c9a4-4cf2-a4b5-16b14133e96e"
   },
   "outputs": [
    {
     "data": {
      "text/html": [
       "<div>\n",
       "<style scoped>\n",
       "    .dataframe tbody tr th:only-of-type {\n",
       "        vertical-align: middle;\n",
       "    }\n",
       "\n",
       "    .dataframe tbody tr th {\n",
       "        vertical-align: top;\n",
       "    }\n",
       "\n",
       "    .dataframe thead th {\n",
       "        text-align: right;\n",
       "    }\n",
       "</style>\n",
       "<table border=\"1\" class=\"dataframe\">\n",
       "  <thead>\n",
       "    <tr style=\"text-align: right;\">\n",
       "      <th></th>\n",
       "      <th>age</th>\n",
       "      <th>workclass</th>\n",
       "      <th>fnlwgt</th>\n",
       "      <th>education</th>\n",
       "      <th>education.num</th>\n",
       "      <th>marital.status</th>\n",
       "      <th>occupation</th>\n",
       "      <th>relationship</th>\n",
       "      <th>race</th>\n",
       "      <th>sex</th>\n",
       "      <th>capital.gain</th>\n",
       "      <th>capital.loss</th>\n",
       "      <th>hours.per.week</th>\n",
       "      <th>native.country</th>\n",
       "      <th>income</th>\n",
       "    </tr>\n",
       "  </thead>\n",
       "  <tbody>\n",
       "    <tr>\n",
       "      <th>0</th>\n",
       "      <td>90</td>\n",
       "      <td>?</td>\n",
       "      <td>77053</td>\n",
       "      <td>HS-grad</td>\n",
       "      <td>9</td>\n",
       "      <td>Widowed</td>\n",
       "      <td>?</td>\n",
       "      <td>Not-in-family</td>\n",
       "      <td>White</td>\n",
       "      <td>Female</td>\n",
       "      <td>0</td>\n",
       "      <td>4356</td>\n",
       "      <td>40</td>\n",
       "      <td>United-States</td>\n",
       "      <td>&lt;=50K</td>\n",
       "    </tr>\n",
       "    <tr>\n",
       "      <th>1</th>\n",
       "      <td>82</td>\n",
       "      <td>Private</td>\n",
       "      <td>132870</td>\n",
       "      <td>HS-grad</td>\n",
       "      <td>9</td>\n",
       "      <td>Widowed</td>\n",
       "      <td>Exec-managerial</td>\n",
       "      <td>Not-in-family</td>\n",
       "      <td>White</td>\n",
       "      <td>Female</td>\n",
       "      <td>0</td>\n",
       "      <td>4356</td>\n",
       "      <td>18</td>\n",
       "      <td>United-States</td>\n",
       "      <td>&lt;=50K</td>\n",
       "    </tr>\n",
       "    <tr>\n",
       "      <th>2</th>\n",
       "      <td>66</td>\n",
       "      <td>?</td>\n",
       "      <td>186061</td>\n",
       "      <td>Some-college</td>\n",
       "      <td>10</td>\n",
       "      <td>Widowed</td>\n",
       "      <td>?</td>\n",
       "      <td>Unmarried</td>\n",
       "      <td>Black</td>\n",
       "      <td>Female</td>\n",
       "      <td>0</td>\n",
       "      <td>4356</td>\n",
       "      <td>40</td>\n",
       "      <td>United-States</td>\n",
       "      <td>&lt;=50K</td>\n",
       "    </tr>\n",
       "    <tr>\n",
       "      <th>3</th>\n",
       "      <td>54</td>\n",
       "      <td>Private</td>\n",
       "      <td>140359</td>\n",
       "      <td>7th-8th</td>\n",
       "      <td>4</td>\n",
       "      <td>Divorced</td>\n",
       "      <td>Machine-op-inspct</td>\n",
       "      <td>Unmarried</td>\n",
       "      <td>White</td>\n",
       "      <td>Female</td>\n",
       "      <td>0</td>\n",
       "      <td>3900</td>\n",
       "      <td>40</td>\n",
       "      <td>United-States</td>\n",
       "      <td>&lt;=50K</td>\n",
       "    </tr>\n",
       "    <tr>\n",
       "      <th>4</th>\n",
       "      <td>41</td>\n",
       "      <td>Private</td>\n",
       "      <td>264663</td>\n",
       "      <td>Some-college</td>\n",
       "      <td>10</td>\n",
       "      <td>Separated</td>\n",
       "      <td>Prof-specialty</td>\n",
       "      <td>Own-child</td>\n",
       "      <td>White</td>\n",
       "      <td>Female</td>\n",
       "      <td>0</td>\n",
       "      <td>3900</td>\n",
       "      <td>40</td>\n",
       "      <td>United-States</td>\n",
       "      <td>&lt;=50K</td>\n",
       "    </tr>\n",
       "  </tbody>\n",
       "</table>\n",
       "</div>"
      ],
      "text/plain": [
       "   age workclass  fnlwgt  ... hours.per.week  native.country income\n",
       "0   90         ?   77053  ...             40   United-States  <=50K\n",
       "1   82   Private  132870  ...             18   United-States  <=50K\n",
       "2   66         ?  186061  ...             40   United-States  <=50K\n",
       "3   54   Private  140359  ...             40   United-States  <=50K\n",
       "4   41   Private  264663  ...             40   United-States  <=50K\n",
       "\n",
       "[5 rows x 15 columns]"
      ]
     },
     "execution_count": 3,
     "metadata": {
      "tags": []
     },
     "output_type": "execute_result"
    }
   ],
   "source": [
    "#Reading Dataset\n",
    "dataset = pd.read_csv('adult.csv')\n",
    "dataset.head()"
   ]
  },
  {
   "cell_type": "code",
   "execution_count": 4,
   "metadata": {
    "colab": {
     "base_uri": "https://localhost:8080/",
     "height": 289
    },
    "colab_type": "code",
    "executionInfo": {
     "elapsed": 832,
     "status": "ok",
     "timestamp": 1588565229831,
     "user": {
      "displayName": "Harshadeep Vattikunta",
      "photoUrl": "https://lh3.googleusercontent.com/a-/AOh14GilWFFCk3AwhK6IoTPhRCX_DvodGy2cb2u8i0GspA=s64",
      "userId": "02200800715866636986"
     },
     "user_tz": -330
    },
    "id": "MFQ4ccmT8R8f",
    "outputId": "45ea3fc1-9d80-46ae-f069-7d1cefe1ff6b"
   },
   "outputs": [
    {
     "data": {
      "text/plain": [
       "age                int64\n",
       "workclass         object\n",
       "fnlwgt             int64\n",
       "education         object\n",
       "education.num      int64\n",
       "marital.status    object\n",
       "occupation        object\n",
       "relationship      object\n",
       "race              object\n",
       "sex               object\n",
       "capital.gain       int64\n",
       "capital.loss       int64\n",
       "hours.per.week     int64\n",
       "native.country    object\n",
       "income            object\n",
       "dtype: object"
      ]
     },
     "execution_count": 4,
     "metadata": {
      "tags": []
     },
     "output_type": "execute_result"
    }
   ],
   "source": [
    "#data types of columns\n",
    "dataset.dtypes"
   ]
  },
  {
   "cell_type": "code",
   "execution_count": 5,
   "metadata": {
    "colab": {
     "base_uri": "https://localhost:8080/",
     "height": 102
    },
    "colab_type": "code",
    "executionInfo": {
     "elapsed": 1242,
     "status": "ok",
     "timestamp": 1588565231697,
     "user": {
      "displayName": "Harshadeep Vattikunta",
      "photoUrl": "https://lh3.googleusercontent.com/a-/AOh14GilWFFCk3AwhK6IoTPhRCX_DvodGy2cb2u8i0GspA=s64",
      "userId": "02200800715866636986"
     },
     "user_tz": -330
    },
    "id": "RWxKLPbBBSL8",
    "outputId": "e112dc37-b3a4-4181-ab63-1d53f1659abb"
   },
   "outputs": [
    {
     "data": {
      "text/plain": [
       "Index(['age', 'workclass', 'fnlwgt', 'education', 'education.num',\n",
       "       'marital.status', 'occupation', 'relationship', 'race', 'sex',\n",
       "       'capital.gain', 'capital.loss', 'hours.per.week', 'native.country',\n",
       "       'income'],\n",
       "      dtype='object')"
      ]
     },
     "execution_count": 5,
     "metadata": {
      "tags": []
     },
     "output_type": "execute_result"
    }
   ],
   "source": [
    "#List of columns present in Dataset\n",
    "dataset.columns"
   ]
  },
  {
   "cell_type": "code",
   "execution_count": 6,
   "metadata": {
    "colab": {
     "base_uri": "https://localhost:8080/",
     "height": 34
    },
    "colab_type": "code",
    "executionInfo": {
     "elapsed": 810,
     "status": "ok",
     "timestamp": 1588565233132,
     "user": {
      "displayName": "Harshadeep Vattikunta",
      "photoUrl": "https://lh3.googleusercontent.com/a-/AOh14GilWFFCk3AwhK6IoTPhRCX_DvodGy2cb2u8i0GspA=s64",
      "userId": "02200800715866636986"
     },
     "user_tz": -330
    },
    "id": "W4Nr99FPYcr_",
    "outputId": "e18a8f53-4b84-4e86-f21a-7d8b82157d71"
   },
   "outputs": [
    {
     "data": {
      "text/plain": [
       "(32561, 15)"
      ]
     },
     "execution_count": 6,
     "metadata": {
      "tags": []
     },
     "output_type": "execute_result"
    }
   ],
   "source": [
    "#Shape of Dataset\n",
    "dataset.shape"
   ]
  },
  {
   "cell_type": "code",
   "execution_count": 0,
   "metadata": {
    "colab": {},
    "colab_type": "code",
    "id": "F75XoTrkBU-H"
   },
   "outputs": [],
   "source": [
    "#Renaming few columns\n",
    "dataset.rename(columns = {'education.num':'education_num', 'marital.status':'marital_status', 'capital.gain':'capital_gain','capital.loss':'capital_loss','hours.per.week':'hours_per_week','native.country':'native_country'}, inplace = True) "
   ]
  },
  {
   "cell_type": "code",
   "execution_count": 8,
   "metadata": {
    "colab": {
     "base_uri": "https://localhost:8080/",
     "height": 102
    },
    "colab_type": "code",
    "executionInfo": {
     "elapsed": 1020,
     "status": "ok",
     "timestamp": 1588565236663,
     "user": {
      "displayName": "Harshadeep Vattikunta",
      "photoUrl": "https://lh3.googleusercontent.com/a-/AOh14GilWFFCk3AwhK6IoTPhRCX_DvodGy2cb2u8i0GspA=s64",
      "userId": "02200800715866636986"
     },
     "user_tz": -330
    },
    "id": "et11jQCSBbeI",
    "outputId": "f20785a0-1945-4df9-abe7-653bd6aa8f3a"
   },
   "outputs": [
    {
     "data": {
      "text/plain": [
       "Index(['age', 'workclass', 'fnlwgt', 'education', 'education_num',\n",
       "       'marital_status', 'occupation', 'relationship', 'race', 'sex',\n",
       "       'capital_gain', 'capital_loss', 'hours_per_week', 'native_country',\n",
       "       'income'],\n",
       "      dtype='object')"
      ]
     },
     "execution_count": 8,
     "metadata": {
      "tags": []
     },
     "output_type": "execute_result"
    }
   ],
   "source": [
    "#Checking the change\n",
    "dataset.columns"
   ]
  },
  {
   "cell_type": "code",
   "execution_count": 0,
   "metadata": {
    "colab": {},
    "colab_type": "code",
    "id": "cH9yKrQ1BfXR"
   },
   "outputs": [],
   "source": [
    "#Replacing \"?\" with NAN\n",
    "dataset['workclass'].replace('?', np.nan, inplace= True)\n",
    "dataset['occupation'].replace('?', np.nan, inplace= True)\n",
    "dataset['native_country'].replace('?', np.nan, inplace= True)"
   ]
  },
  {
   "cell_type": "code",
   "execution_count": 10,
   "metadata": {
    "colab": {
     "base_uri": "https://localhost:8080/",
     "height": 427
    },
    "colab_type": "code",
    "executionInfo": {
     "elapsed": 1277,
     "status": "ok",
     "timestamp": 1588565240132,
     "user": {
      "displayName": "Harshadeep Vattikunta",
      "photoUrl": "https://lh3.googleusercontent.com/a-/AOh14GilWFFCk3AwhK6IoTPhRCX_DvodGy2cb2u8i0GspA=s64",
      "userId": "02200800715866636986"
     },
     "user_tz": -330
    },
    "id": "6fk5BXJnB7Iy",
    "outputId": "af882666-9ca5-4499-91b6-5533753637b9"
   },
   "outputs": [
    {
     "data": {
      "text/html": [
       "<div>\n",
       "<style scoped>\n",
       "    .dataframe tbody tr th:only-of-type {\n",
       "        vertical-align: middle;\n",
       "    }\n",
       "\n",
       "    .dataframe tbody tr th {\n",
       "        vertical-align: top;\n",
       "    }\n",
       "\n",
       "    .dataframe thead th {\n",
       "        text-align: right;\n",
       "    }\n",
       "</style>\n",
       "<table border=\"1\" class=\"dataframe\">\n",
       "  <thead>\n",
       "    <tr style=\"text-align: right;\">\n",
       "      <th></th>\n",
       "      <th>age</th>\n",
       "      <th>workclass</th>\n",
       "      <th>fnlwgt</th>\n",
       "      <th>education</th>\n",
       "      <th>education_num</th>\n",
       "      <th>marital_status</th>\n",
       "      <th>occupation</th>\n",
       "      <th>relationship</th>\n",
       "      <th>race</th>\n",
       "      <th>sex</th>\n",
       "      <th>capital_gain</th>\n",
       "      <th>capital_loss</th>\n",
       "      <th>hours_per_week</th>\n",
       "      <th>native_country</th>\n",
       "      <th>income</th>\n",
       "    </tr>\n",
       "  </thead>\n",
       "  <tbody>\n",
       "    <tr>\n",
       "      <th>count</th>\n",
       "      <td>32561.000000</td>\n",
       "      <td>30725</td>\n",
       "      <td>3.256100e+04</td>\n",
       "      <td>32561</td>\n",
       "      <td>32561.000000</td>\n",
       "      <td>32561</td>\n",
       "      <td>30718</td>\n",
       "      <td>32561</td>\n",
       "      <td>32561</td>\n",
       "      <td>32561</td>\n",
       "      <td>32561.000000</td>\n",
       "      <td>32561.000000</td>\n",
       "      <td>32561.000000</td>\n",
       "      <td>31978</td>\n",
       "      <td>32561</td>\n",
       "    </tr>\n",
       "    <tr>\n",
       "      <th>unique</th>\n",
       "      <td>NaN</td>\n",
       "      <td>8</td>\n",
       "      <td>NaN</td>\n",
       "      <td>16</td>\n",
       "      <td>NaN</td>\n",
       "      <td>7</td>\n",
       "      <td>14</td>\n",
       "      <td>6</td>\n",
       "      <td>5</td>\n",
       "      <td>2</td>\n",
       "      <td>NaN</td>\n",
       "      <td>NaN</td>\n",
       "      <td>NaN</td>\n",
       "      <td>41</td>\n",
       "      <td>2</td>\n",
       "    </tr>\n",
       "    <tr>\n",
       "      <th>top</th>\n",
       "      <td>NaN</td>\n",
       "      <td>Private</td>\n",
       "      <td>NaN</td>\n",
       "      <td>HS-grad</td>\n",
       "      <td>NaN</td>\n",
       "      <td>Married-civ-spouse</td>\n",
       "      <td>Prof-specialty</td>\n",
       "      <td>Husband</td>\n",
       "      <td>White</td>\n",
       "      <td>Male</td>\n",
       "      <td>NaN</td>\n",
       "      <td>NaN</td>\n",
       "      <td>NaN</td>\n",
       "      <td>United-States</td>\n",
       "      <td>&lt;=50K</td>\n",
       "    </tr>\n",
       "    <tr>\n",
       "      <th>freq</th>\n",
       "      <td>NaN</td>\n",
       "      <td>22696</td>\n",
       "      <td>NaN</td>\n",
       "      <td>10501</td>\n",
       "      <td>NaN</td>\n",
       "      <td>14976</td>\n",
       "      <td>4140</td>\n",
       "      <td>13193</td>\n",
       "      <td>27816</td>\n",
       "      <td>21790</td>\n",
       "      <td>NaN</td>\n",
       "      <td>NaN</td>\n",
       "      <td>NaN</td>\n",
       "      <td>29170</td>\n",
       "      <td>24720</td>\n",
       "    </tr>\n",
       "    <tr>\n",
       "      <th>mean</th>\n",
       "      <td>38.581647</td>\n",
       "      <td>NaN</td>\n",
       "      <td>1.897784e+05</td>\n",
       "      <td>NaN</td>\n",
       "      <td>10.080679</td>\n",
       "      <td>NaN</td>\n",
       "      <td>NaN</td>\n",
       "      <td>NaN</td>\n",
       "      <td>NaN</td>\n",
       "      <td>NaN</td>\n",
       "      <td>1077.648844</td>\n",
       "      <td>87.303830</td>\n",
       "      <td>40.437456</td>\n",
       "      <td>NaN</td>\n",
       "      <td>NaN</td>\n",
       "    </tr>\n",
       "    <tr>\n",
       "      <th>std</th>\n",
       "      <td>13.640433</td>\n",
       "      <td>NaN</td>\n",
       "      <td>1.055500e+05</td>\n",
       "      <td>NaN</td>\n",
       "      <td>2.572720</td>\n",
       "      <td>NaN</td>\n",
       "      <td>NaN</td>\n",
       "      <td>NaN</td>\n",
       "      <td>NaN</td>\n",
       "      <td>NaN</td>\n",
       "      <td>7385.292085</td>\n",
       "      <td>402.960219</td>\n",
       "      <td>12.347429</td>\n",
       "      <td>NaN</td>\n",
       "      <td>NaN</td>\n",
       "    </tr>\n",
       "    <tr>\n",
       "      <th>min</th>\n",
       "      <td>17.000000</td>\n",
       "      <td>NaN</td>\n",
       "      <td>1.228500e+04</td>\n",
       "      <td>NaN</td>\n",
       "      <td>1.000000</td>\n",
       "      <td>NaN</td>\n",
       "      <td>NaN</td>\n",
       "      <td>NaN</td>\n",
       "      <td>NaN</td>\n",
       "      <td>NaN</td>\n",
       "      <td>0.000000</td>\n",
       "      <td>0.000000</td>\n",
       "      <td>1.000000</td>\n",
       "      <td>NaN</td>\n",
       "      <td>NaN</td>\n",
       "    </tr>\n",
       "    <tr>\n",
       "      <th>25%</th>\n",
       "      <td>28.000000</td>\n",
       "      <td>NaN</td>\n",
       "      <td>1.178270e+05</td>\n",
       "      <td>NaN</td>\n",
       "      <td>9.000000</td>\n",
       "      <td>NaN</td>\n",
       "      <td>NaN</td>\n",
       "      <td>NaN</td>\n",
       "      <td>NaN</td>\n",
       "      <td>NaN</td>\n",
       "      <td>0.000000</td>\n",
       "      <td>0.000000</td>\n",
       "      <td>40.000000</td>\n",
       "      <td>NaN</td>\n",
       "      <td>NaN</td>\n",
       "    </tr>\n",
       "    <tr>\n",
       "      <th>50%</th>\n",
       "      <td>37.000000</td>\n",
       "      <td>NaN</td>\n",
       "      <td>1.783560e+05</td>\n",
       "      <td>NaN</td>\n",
       "      <td>10.000000</td>\n",
       "      <td>NaN</td>\n",
       "      <td>NaN</td>\n",
       "      <td>NaN</td>\n",
       "      <td>NaN</td>\n",
       "      <td>NaN</td>\n",
       "      <td>0.000000</td>\n",
       "      <td>0.000000</td>\n",
       "      <td>40.000000</td>\n",
       "      <td>NaN</td>\n",
       "      <td>NaN</td>\n",
       "    </tr>\n",
       "    <tr>\n",
       "      <th>75%</th>\n",
       "      <td>48.000000</td>\n",
       "      <td>NaN</td>\n",
       "      <td>2.370510e+05</td>\n",
       "      <td>NaN</td>\n",
       "      <td>12.000000</td>\n",
       "      <td>NaN</td>\n",
       "      <td>NaN</td>\n",
       "      <td>NaN</td>\n",
       "      <td>NaN</td>\n",
       "      <td>NaN</td>\n",
       "      <td>0.000000</td>\n",
       "      <td>0.000000</td>\n",
       "      <td>45.000000</td>\n",
       "      <td>NaN</td>\n",
       "      <td>NaN</td>\n",
       "    </tr>\n",
       "    <tr>\n",
       "      <th>max</th>\n",
       "      <td>90.000000</td>\n",
       "      <td>NaN</td>\n",
       "      <td>1.484705e+06</td>\n",
       "      <td>NaN</td>\n",
       "      <td>16.000000</td>\n",
       "      <td>NaN</td>\n",
       "      <td>NaN</td>\n",
       "      <td>NaN</td>\n",
       "      <td>NaN</td>\n",
       "      <td>NaN</td>\n",
       "      <td>99999.000000</td>\n",
       "      <td>4356.000000</td>\n",
       "      <td>99.000000</td>\n",
       "      <td>NaN</td>\n",
       "      <td>NaN</td>\n",
       "    </tr>\n",
       "  </tbody>\n",
       "</table>\n",
       "</div>"
      ],
      "text/plain": [
       "                 age workclass  ...  native_country income\n",
       "count   32561.000000     30725  ...           31978  32561\n",
       "unique           NaN         8  ...              41      2\n",
       "top              NaN   Private  ...   United-States  <=50K\n",
       "freq             NaN     22696  ...           29170  24720\n",
       "mean       38.581647       NaN  ...             NaN    NaN\n",
       "std        13.640433       NaN  ...             NaN    NaN\n",
       "min        17.000000       NaN  ...             NaN    NaN\n",
       "25%        28.000000       NaN  ...             NaN    NaN\n",
       "50%        37.000000       NaN  ...             NaN    NaN\n",
       "75%        48.000000       NaN  ...             NaN    NaN\n",
       "max        90.000000       NaN  ...             NaN    NaN\n",
       "\n",
       "[11 rows x 15 columns]"
      ]
     },
     "execution_count": 10,
     "metadata": {
      "tags": []
     },
     "output_type": "execute_result"
    }
   ],
   "source": [
    "#A detailed description of the datset\n",
    "dataset.describe(include='all')"
   ]
  },
  {
   "cell_type": "code",
   "execution_count": 11,
   "metadata": {
    "colab": {
     "base_uri": "https://localhost:8080/",
     "height": 289
    },
    "colab_type": "code",
    "executionInfo": {
     "elapsed": 761,
     "status": "ok",
     "timestamp": 1588565241573,
     "user": {
      "displayName": "Harshadeep Vattikunta",
      "photoUrl": "https://lh3.googleusercontent.com/a-/AOh14GilWFFCk3AwhK6IoTPhRCX_DvodGy2cb2u8i0GspA=s64",
      "userId": "02200800715866636986"
     },
     "user_tz": -330
    },
    "id": "bbmUEm8ICHE_",
    "outputId": "9dd4db01-5b09-4f92-b1d1-4271f06e2187"
   },
   "outputs": [
    {
     "data": {
      "text/plain": [
       "age                  0\n",
       "workclass         1836\n",
       "fnlwgt               0\n",
       "education            0\n",
       "education_num        0\n",
       "marital_status       0\n",
       "occupation        1843\n",
       "relationship         0\n",
       "race                 0\n",
       "sex                  0\n",
       "capital_gain         0\n",
       "capital_loss         0\n",
       "hours_per_week       0\n",
       "native_country     583\n",
       "income               0\n",
       "dtype: int64"
      ]
     },
     "execution_count": 11,
     "metadata": {
      "tags": []
     },
     "output_type": "execute_result"
    }
   ],
   "source": [
    "#Number of null values in the dataset column wise\n",
    "dataset.isnull().sum()"
   ]
  },
  {
   "cell_type": "code",
   "execution_count": 12,
   "metadata": {
    "colab": {
     "base_uri": "https://localhost:8080/",
     "height": 401
    },
    "colab_type": "code",
    "executionInfo": {
     "elapsed": 1699,
     "status": "ok",
     "timestamp": 1588565243976,
     "user": {
      "displayName": "Harshadeep Vattikunta",
      "photoUrl": "https://lh3.googleusercontent.com/a-/AOh14GilWFFCk3AwhK6IoTPhRCX_DvodGy2cb2u8i0GspA=s64",
      "userId": "02200800715866636986"
     },
     "user_tz": -330
    },
    "id": "HuAUmKFphLAk",
    "outputId": "02b6eb42-589e-4d8e-b7d9-df88980def7d"
   },
   "outputs": [
    {
     "data": {
      "text/plain": [
       "<matplotlib.axes._subplots.AxesSubplot at 0x7f1c643f02b0>"
      ]
     },
     "execution_count": 12,
     "metadata": {
      "tags": []
     },
     "output_type": "execute_result"
    },
    {
     "data": {
      "image/png": "[encoded data removed]",
      "text/plain": [
       "<Figure size 432x288 with 1 Axes>"
      ]
     },
     "metadata": {
      "needs_background": "light",
      "tags": []
     },
     "output_type": "display_data"
    }
   ],
   "source": [
    "#Grouping Workclass\n",
    "dataset.groupby(['workclass']).size().plot(kind=\"bar\",fontsize=14)"
   ]
  },
  {
   "cell_type": "code",
   "execution_count": 13,
   "metadata": {
    "colab": {
     "base_uri": "https://localhost:8080/",
     "height": 415
    },
    "colab_type": "code",
    "executionInfo": {
     "elapsed": 1444,
     "status": "ok",
     "timestamp": 1588565246310,
     "user": {
      "displayName": "Harshadeep Vattikunta",
      "photoUrl": "https://lh3.googleusercontent.com/a-/AOh14GilWFFCk3AwhK6IoTPhRCX_DvodGy2cb2u8i0GspA=s64",
      "userId": "02200800715866636986"
     },
     "user_tz": -330
    },
    "id": "bSYgHh-nhadp",
    "outputId": "f631994c-977d-400d-83c3-1240fba906dc"
   },
   "outputs": [
    {
     "data": {
      "text/plain": [
       "<matplotlib.axes._subplots.AxesSubplot at 0x7f1c6432dc88>"
      ]
     },
     "execution_count": 13,
     "metadata": {
      "tags": []
     },
     "output_type": "execute_result"
    },
    {
     "data": {
      "image/png": "[encoded data removed]",
      "text/plain": [
       "<Figure size 432x288 with 1 Axes>"
      ]
     },
     "metadata": {
      "needs_background": "light",
      "tags": []
     },
     "output_type": "display_data"
    }
   ],
   "source": [
    "#Grouping Occupation\n",
    "dataset.groupby(['occupation']).size().plot(kind=\"bar\",fontsize=14)"
   ]
  },
  {
   "cell_type": "code",
   "execution_count": 14,
   "metadata": {
    "colab": {
     "base_uri": "https://localhost:8080/",
     "height": 489
    },
    "colab_type": "code",
    "executionInfo": {
     "elapsed": 1732,
     "status": "ok",
     "timestamp": 1588565248618,
     "user": {
      "displayName": "Harshadeep Vattikunta",
      "photoUrl": "https://lh3.googleusercontent.com/a-/AOh14GilWFFCk3AwhK6IoTPhRCX_DvodGy2cb2u8i0GspA=s64",
      "userId": "02200800715866636986"
     },
     "user_tz": -330
    },
    "id": "g-v2IT0xharM",
    "outputId": "b2fe9d24-b5d4-4b12-e0e2-2efee7b3b4d5"
   },
   "outputs": [
    {
     "data": {
      "text/plain": [
       "<matplotlib.axes._subplots.AxesSubplot at 0x7f1c643466a0>"
      ]
     },
     "execution_count": 14,
     "metadata": {
      "tags": []
     },
     "output_type": "execute_result"
    },
    {
     "data": {
      "image/png": "[encoded data removed]",
      "text/plain": [
       "<Figure size 432x288 with 1 Axes>"
      ]
     },
     "metadata": {
      "needs_background": "light",
      "tags": []
     },
     "output_type": "display_data"
    }
   ],
   "source": [
    "#Grouping Native Country\n",
    "dataset.groupby(['native_country']).size().plot(kind=\"bar\",fontsize=14)"
   ]
  },
  {
   "cell_type": "code",
   "execution_count": 19,
   "metadata": {
    "colab": {
     "base_uri": "https://localhost:8080/",
     "height": 289
    },
    "colab_type": "code",
    "executionInfo": {
     "elapsed": 998,
     "status": "ok",
     "timestamp": 1588565256422,
     "user": {
      "displayName": "Harshadeep Vattikunta",
      "photoUrl": "https://lh3.googleusercontent.com/a-/AOh14GilWFFCk3AwhK6IoTPhRCX_DvodGy2cb2u8i0GspA=s64",
      "userId": "02200800715866636986"
     },
     "user_tz": -330
    },
    "id": "jec4ZRu1CU_y",
    "outputId": "fc84be50-b442-4dfd-aed5-493bb3f36cb1"
   },
   "outputs": [
    {
     "data": {
      "text/plain": [
       "age                 0\n",
       "workclass           0\n",
       "fnlwgt              0\n",
       "education           0\n",
       "education_num       0\n",
       "marital_status      0\n",
       "occupation          0\n",
       "relationship        0\n",
       "race                0\n",
       "sex                 0\n",
       "capital_gain        0\n",
       "capital_loss        0\n",
       "hours_per_week      0\n",
       "native_country    556\n",
       "income              0\n",
       "dtype: int64"
      ]
     },
     "execution_count": 19,
     "metadata": {
      "tags": []
     },
     "output_type": "execute_result"
    }
   ],
   "source": [
    "#Droping null values in occupation column\n",
    "data1 = dataset.dropna(subset=['occupation'])\n",
    "data1.isnull().sum()"
   ]
  },
  {
   "cell_type": "code",
   "execution_count": 20,
   "metadata": {
    "colab": {
     "base_uri": "https://localhost:8080/",
     "height": 34
    },
    "colab_type": "code",
    "executionInfo": {
     "elapsed": 778,
     "status": "ok",
     "timestamp": 1588565257855,
     "user": {
      "displayName": "Harshadeep Vattikunta",
      "photoUrl": "https://lh3.googleusercontent.com/a-/AOh14GilWFFCk3AwhK6IoTPhRCX_DvodGy2cb2u8i0GspA=s64",
      "userId": "02200800715866636986"
     },
     "user_tz": -330
    },
    "id": "QPMqNwy34JoA",
    "outputId": "25253670-1c32-41db-981a-b8544902012e"
   },
   "outputs": [
    {
     "data": {
      "text/plain": [
       "(30718, 15)"
      ]
     },
     "execution_count": 20,
     "metadata": {
      "tags": []
     },
     "output_type": "execute_result"
    }
   ],
   "source": [
    "#Shape of dataset after droping null values\n",
    "data1.shape"
   ]
  },
  {
   "cell_type": "code",
   "execution_count": 0,
   "metadata": {
    "colab": {},
    "colab_type": "code",
    "id": "Y8mzPvcit2kL"
   },
   "outputs": [],
   "source": [
    "#Imputing null values with Mode\n",
    "from sklearn.impute import SimpleImputer\n",
    "imputer = SimpleImputer(missing_values=np.NaN,strategy='most_frequent')\n",
    "imp_data = pd.DataFrame(imputer.fit_transform(data1))\n",
    "imp_data.columns= data1.columns\n",
    "imp_data.index = data1.index"
   ]
  },
  {
   "cell_type": "code",
   "execution_count": 22,
   "metadata": {
    "colab": {
     "base_uri": "https://localhost:8080/",
     "height": 289
    },
    "colab_type": "code",
    "executionInfo": {
     "elapsed": 1093,
     "status": "ok",
     "timestamp": 1588565264678,
     "user": {
      "displayName": "Harshadeep Vattikunta",
      "photoUrl": "https://lh3.googleusercontent.com/a-/AOh14GilWFFCk3AwhK6IoTPhRCX_DvodGy2cb2u8i0GspA=s64",
      "userId": "02200800715866636986"
     },
     "user_tz": -330
    },
    "id": "UKmNAHlqt2kb",
    "outputId": "cd46f523-6667-4abf-a2b6-4a7261d2992b"
   },
   "outputs": [
    {
     "data": {
      "text/plain": [
       "age               0\n",
       "workclass         0\n",
       "fnlwgt            0\n",
       "education         0\n",
       "education_num     0\n",
       "marital_status    0\n",
       "occupation        0\n",
       "relationship      0\n",
       "race              0\n",
       "sex               0\n",
       "capital_gain      0\n",
       "capital_loss      0\n",
       "hours_per_week    0\n",
       "native_country    0\n",
       "income            0\n",
       "dtype: int64"
      ]
     },
     "execution_count": 22,
     "metadata": {
      "tags": []
     },
     "output_type": "execute_result"
    }
   ],
   "source": [
    "#Checking for null values\n",
    "imp_data.isnull().sum()"
   ]
  },
  {
   "cell_type": "code",
   "execution_count": 23,
   "metadata": {
    "colab": {
     "base_uri": "https://localhost:8080/",
     "height": 289
    },
    "colab_type": "code",
    "executionInfo": {
     "elapsed": 1005,
     "status": "ok",
     "timestamp": 1588565267093,
     "user": {
      "displayName": "Harshadeep Vattikunta",
      "photoUrl": "https://lh3.googleusercontent.com/a-/AOh14GilWFFCk3AwhK6IoTPhRCX_DvodGy2cb2u8i0GspA=s64",
      "userId": "02200800715866636986"
     },
     "user_tz": -330
    },
    "id": "5AE390fUt2kk",
    "outputId": "11c50fef-b6b3-4035-e356-e3794010c166"
   },
   "outputs": [
    {
     "data": {
      "text/plain": [
       "age               True\n",
       "workclass         True\n",
       "fnlwgt            True\n",
       "education         True\n",
       "education_num     True\n",
       "marital_status    True\n",
       "occupation        True\n",
       "relationship      True\n",
       "race              True\n",
       "sex               True\n",
       "capital_gain      True\n",
       "capital_loss      True\n",
       "hours_per_week    True\n",
       "native_country    True\n",
       "income            True\n",
       "dtype: bool"
      ]
     },
     "execution_count": 23,
     "metadata": {
      "tags": []
     },
     "output_type": "execute_result"
    }
   ],
   "source": [
    "#Confirming the Categorical Features\n",
    "categorical_feature_mask = imp_data.dtypes==object\n",
    "categorical_feature_mask\n"
   ]
  },
  {
   "cell_type": "code",
   "execution_count": 0,
   "metadata": {
    "colab": {},
    "colab_type": "code",
    "id": "xbh_SJKIt2kr"
   },
   "outputs": [],
   "source": [
    "##Label encoding the all the categorical features\n",
    "\n",
    "data = imp_data\n",
    "from sklearn.preprocessing import LabelEncoder\n",
    "le = LabelEncoder()\n",
    "cat_list=['income','workclass','education','marital_status','occupation','relationship','race','sex','native_country']\n",
    "data[cat_list]=data[cat_list].apply(lambda x:le.fit_transform(x))"
   ]
  },
  {
   "cell_type": "code",
   "execution_count": 25,
   "metadata": {
    "colab": {
     "base_uri": "https://localhost:8080/",
     "height": 289
    },
    "colab_type": "code",
    "executionInfo": {
     "elapsed": 831,
     "status": "ok",
     "timestamp": 1588565270427,
     "user": {
      "displayName": "Harshadeep Vattikunta",
      "photoUrl": "https://lh3.googleusercontent.com/a-/AOh14GilWFFCk3AwhK6IoTPhRCX_DvodGy2cb2u8i0GspA=s64",
      "userId": "02200800715866636986"
     },
     "user_tz": -330
    },
    "id": "xX7bL3WxugnW",
    "outputId": "3b2dc2ab-0b8c-4256-d48f-aadc048c8d8c"
   },
   "outputs": [
    {
     "data": {
      "text/plain": [
       "age                  72\n",
       "workclass             7\n",
       "fnlwgt            20495\n",
       "education            16\n",
       "education_num        16\n",
       "marital_status        7\n",
       "occupation           14\n",
       "relationship          6\n",
       "race                  5\n",
       "sex                   2\n",
       "capital_gain        118\n",
       "capital_loss         90\n",
       "hours_per_week       94\n",
       "native_country       41\n",
       "income                2\n",
       "dtype: int64"
      ]
     },
     "execution_count": 25,
     "metadata": {
      "tags": []
     },
     "output_type": "execute_result"
    }
   ],
   "source": [
    "#Number of categories in dataset\n",
    "data.nunique()"
   ]
  },
  {
   "cell_type": "code",
   "execution_count": 26,
   "metadata": {
    "colab": {
     "base_uri": "https://localhost:8080/",
     "height": 510
    },
    "colab_type": "code",
    "executionInfo": {
     "elapsed": 1670,
     "status": "ok",
     "timestamp": 1588565272747,
     "user": {
      "displayName": "Harshadeep Vattikunta",
      "photoUrl": "https://lh3.googleusercontent.com/a-/AOh14GilWFFCk3AwhK6IoTPhRCX_DvodGy2cb2u8i0GspA=s64",
      "userId": "02200800715866636986"
     },
     "user_tz": -330
    },
    "id": "Nm2UEYdDucz7",
    "outputId": "59de319e-ef2c-4c70-bc85-e31d80e65199"
   },
   "outputs": [
    {
     "data": {
      "text/plain": [
       "<matplotlib.axes._subplots.AxesSubplot at 0x7f1c5fee62b0>"
      ]
     },
     "execution_count": 26,
     "metadata": {
      "tags": []
     },
     "output_type": "execute_result"
    },
    {
     "data": {
      "image/png": "[encoded data removed]",
      "text/plain": [
       "<Figure size 720x504 with 2 Axes>"
      ]
     },
     "metadata": {
      "needs_background": "light",
      "tags": []
     },
     "output_type": "display_data"
    }
   ],
   "source": [
    "#Finding Correlation between variables\n",
    "corr = data.corr()\n",
    "mask = np.zeros(corr.shape, dtype=bool)\n",
    "mask[np.triu_indices(len(mask))] = True\n",
    "plt.subplots(figsize=(10,7))\n",
    "sns.heatmap(corr, xticklabels=corr.columns, yticklabels=corr.columns,annot=True,mask = mask)"
   ]
  },
  {
   "cell_type": "code",
   "execution_count": 0,
   "metadata": {
    "colab": {},
    "colab_type": "code",
    "id": "eDA395Np-7Hh"
   },
   "outputs": [],
   "source": [
    "#Slicing dataset into Independent(X) and Target(y) varibles\n",
    "X = data.iloc[:, :-1].values\n",
    "y = data.iloc[:, -1].values\n"
   ]
  },
  {
   "cell_type": "code",
   "execution_count": 0,
   "metadata": {
    "colab": {},
    "colab_type": "code",
    "id": "kUzutCCU_Y3J"
   },
   "outputs": [],
   "source": [
    "#Dividing dataset into test and train\n",
    "from sklearn.model_selection import train_test_split\n",
    "X_train, X_test, y_train, y_test = train_test_split(X, y, test_size = 0.3, random_state = 0)"
   ]
  },
  {
   "cell_type": "code",
   "execution_count": 0,
   "metadata": {
    "colab": {},
    "colab_type": "code",
    "id": "QXvmve0J_kK7"
   },
   "outputs": [],
   "source": [
    "#Scaling the dependent variables\n",
    "from sklearn.preprocessing import StandardScaler\n",
    "sc = StandardScaler()\n",
    "X_train = sc.fit_transform(X_train)\n",
    "X_test = sc.transform(X_test)"
   ]
  },
  {
   "cell_type": "code",
   "execution_count": 0,
   "metadata": {
    "colab": {
     "base_uri": "https://localhost:8080/",
     "height": 102
    },
    "colab_type": "code",
    "executionInfo": {
     "elapsed": 6670,
     "status": "ok",
     "timestamp": 1588533123716,
     "user": {
      "displayName": "Harshadeep Vattikunta",
      "photoUrl": "https://lh3.googleusercontent.com/a-/AOh14GilWFFCk3AwhK6IoTPhRCX_DvodGy2cb2u8i0GspA=s64",
      "userId": "02200800715866636986"
     },
     "user_tz": -330
    },
    "id": "1PLTrGpF_osJ",
    "outputId": "f0caee31-deb0-4e96-9b39-946b83ac41b2"
   },
   "outputs": [
    {
     "data": {
      "text/plain": [
       "LogisticRegression(C=1.0, class_weight=None, dual=False, fit_intercept=True,\n",
       "                   intercept_scaling=1, l1_ratio=None, max_iter=100,\n",
       "                   multi_class='auto', n_jobs=None, penalty='l2',\n",
       "                   random_state=0, solver='lbfgs', tol=0.0001, verbose=0,\n",
       "                   warm_start=False)"
      ]
     },
     "execution_count": 29,
     "metadata": {
      "tags": []
     },
     "output_type": "execute_result"
    }
   ],
   "source": [
    "#Training the Logistic Regression on Train data\n",
    "from sklearn.linear_model import LogisticRegression\n",
    "classifier = LogisticRegression(random_state = 0)\n",
    "classifier.fit(X_train, y_train)"
   ]
  },
  {
   "cell_type": "code",
   "execution_count": 0,
   "metadata": {
    "colab": {},
    "colab_type": "code",
    "id": "GH8Tw0qI_tbB"
   },
   "outputs": [],
   "source": [
    "#Predicting the Test data\n",
    "y_pred = classifier.predict(X_test)"
   ]
  },
  {
   "cell_type": "code",
   "execution_count": 0,
   "metadata": {
    "colab": {
     "base_uri": "https://localhost:8080/",
     "height": 51
    },
    "colab_type": "code",
    "executionInfo": {
     "elapsed": 6650,
     "status": "ok",
     "timestamp": 1588533123719,
     "user": {
      "displayName": "Harshadeep Vattikunta",
      "photoUrl": "https://lh3.googleusercontent.com/a-/AOh14GilWFFCk3AwhK6IoTPhRCX_DvodGy2cb2u8i0GspA=s64",
      "userId": "02200800715866636986"
     },
     "user_tz": -330
    },
    "id": "2pnlVOF-_2uJ",
    "outputId": "e041751d-8601-4b8d-e0aa-868af4c927ed"
   },
   "outputs": [
    {
     "name": "stdout",
     "output_type": "stream",
     "text": [
      "[[6477  405]\n",
      " [1271 1063]]\n"
     ]
    }
   ],
   "source": [
    "#Evaluation of Prediction on test data\n",
    "from sklearn.metrics import confusion_matrix\n",
    "cm = confusion_matrix(y_test, y_pred)\n",
    "print(cm)"
   ]
  },
  {
   "cell_type": "code",
   "execution_count": 0,
   "metadata": {
    "colab": {
     "base_uri": "https://localhost:8080/",
     "height": 34
    },
    "colab_type": "code",
    "executionInfo": {
     "elapsed": 6642,
     "status": "ok",
     "timestamp": 1588533123722,
     "user": {
      "displayName": "Harshadeep Vattikunta",
      "photoUrl": "https://lh3.googleusercontent.com/a-/AOh14GilWFFCk3AwhK6IoTPhRCX_DvodGy2cb2u8i0GspA=s64",
      "userId": "02200800715866636986"
     },
     "user_tz": -330
    },
    "id": "DDhdUmPe5Q9K",
    "outputId": "1ac3dff1-558b-47f7-b19e-79d8e3f33ea1"
   },
   "outputs": [
    {
     "data": {
      "text/plain": [
       "81.81423611111111"
      ]
     },
     "execution_count": 32,
     "metadata": {
      "tags": []
     },
     "output_type": "execute_result"
    }
   ],
   "source": [
    "#Accuracy Metric\n",
    "from sklearn.metrics import accuracy_score as accuracy_score\n",
    "acs = accuracy_score(y_test, y_pred, normalize=True, sample_weight=None)\n",
    "acs*100"
   ]
  },
  {
   "cell_type": "code",
   "execution_count": 0,
   "metadata": {
    "colab": {
     "base_uri": "https://localhost:8080/",
     "height": 170
    },
    "colab_type": "code",
    "executionInfo": {
     "elapsed": 6585,
     "status": "ok",
     "timestamp": 1588533123723,
     "user": {
      "displayName": "Harshadeep Vattikunta",
      "photoUrl": "https://lh3.googleusercontent.com/a-/AOh14GilWFFCk3AwhK6IoTPhRCX_DvodGy2cb2u8i0GspA=s64",
      "userId": "02200800715866636986"
     },
     "user_tz": -330
    },
    "id": "A6oFv0RfBDzO",
    "outputId": "582bc224-1dc8-4c5c-e5cb-21b1f943203f"
   },
   "outputs": [
    {
     "name": "stdout",
     "output_type": "stream",
     "text": [
      "              precision    recall  f1-score   support\n",
      "\n",
      "           0       0.84      0.94      0.89      6882\n",
      "           1       0.72      0.46      0.56      2334\n",
      "\n",
      "    accuracy                           0.82      9216\n",
      "   macro avg       0.78      0.70      0.72      9216\n",
      "weighted avg       0.81      0.82      0.80      9216\n",
      "\n"
     ]
    }
   ],
   "source": [
    "#A detailed Classification Report\n",
    "from sklearn.metrics import classification_report\n",
    "c_r = classification_report(y_test,y_pred)\n",
    "print(c_r)"
   ]
  },
  {
   "cell_type": "code",
   "execution_count": 0,
   "metadata": {
    "colab": {
     "base_uri": "https://localhost:8080/",
     "height": 295
    },
    "colab_type": "code",
    "executionInfo": {
     "elapsed": 6555,
     "status": "ok",
     "timestamp": 1588533123724,
     "user": {
      "displayName": "Harshadeep Vattikunta",
      "photoUrl": "https://lh3.googleusercontent.com/a-/AOh14GilWFFCk3AwhK6IoTPhRCX_DvodGy2cb2u8i0GspA=s64",
      "userId": "02200800715866636986"
     },
     "user_tz": -330
    },
    "id": "MLtti1o2IfHg",
    "outputId": "94cfd657-44a3-4441-d23b-379f48636ae0"
   },
   "outputs": [
    {
     "data": {
      "image/png": "[encoded data removed]",
      "text/plain": [
       "<Figure size 432x288 with 1 Axes>"
      ]
     },
     "metadata": {
      "needs_background": "light",
      "tags": []
     },
     "output_type": "display_data"
    }
   ],
   "source": [
    "import sklearn.metrics as metrics\n",
    "# calculate the fpr and tpr for all thresholds of the classification\n",
    "probs = classifier.predict_proba(X_test)\n",
    "preds = probs[:,1]\n",
    "fpr, tpr, threshold = metrics.roc_curve(y_test, preds)\n",
    "roc_auc = metrics.auc(fpr, tpr)\n",
    "\n",
    "#Plotting ROC\n",
    "import matplotlib.pyplot as plt\n",
    "plt.title('Receiver Operating Characteristic')\n",
    "plt.plot(fpr, tpr, 'b', label = 'AUC = %0.2f' % roc_auc)\n",
    "plt.legend(loc = 'lower right')\n",
    "plt.plot([0, 1], [0, 1],'r--')\n",
    "plt.xlim([0, 1])\n",
    "plt.ylim([0, 1])\n",
    "plt.ylabel('True Positive Rate')\n",
    "plt.xlabel('False Positive Rate')\n",
    "plt.show()"
   ]
  },
  {
   "cell_type": "code",
   "execution_count": 0,
   "metadata": {
    "colab": {},
    "colab_type": "code",
    "id": "XOcZ9eOy9QBT"
   },
   "outputs": [],
   "source": []
  }
 ],
 "metadata": {
  "colab": {
   "collapsed_sections": [],
   "name": "1a_new.ipynb",
   "provenance": [
    {
     "file_id": "1QCjjvQgUsx-cnUk-raGlaWcKAM-hYppP",
     "timestamp": 1588068547568
    }
   ]
  },
  "kernelspec": {
   "display_name": "Python 3",
   "language": "python",
   "name": "python3"
  },
  "language_info": {
   "codemirror_mode": {
    "name": "ipython",
    "version": 3
   },
   "file_extension": ".py",
   "mimetype": "text/x-python",
   "name": "python",
   "nbconvert_exporter": "python",
   "pygments_lexer": "ipython3",
   "version": "3.7.4"
  }
 },
 "nbformat": 4,
 "nbformat_minor": 1
}
