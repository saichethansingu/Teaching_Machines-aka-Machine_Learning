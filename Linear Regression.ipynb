{
 "cells": [
  {
   "cell_type": "code",
   "execution_count": 0,
   "metadata": {
    "colab": {},
    "colab_type": "code",
    "id": "1d3wejyLjjIN"
   },
   "outputs": [],
   "source": [
    "#Accuracy of the model\n",
    "import numpy as np\n",
    "import seaborn as sns\n",
    "import pandas as pd\n",
    "import matplotlib.pyplot as plt"
   ]
  },
  {
   "cell_type": "code",
   "execution_count": 10,
   "metadata": {
    "colab": {
     "base_uri": "https://localhost:8080/",
     "height": 326
    },
    "colab_type": "code",
    "executionInfo": {
     "elapsed": 665,
     "status": "ok",
     "timestamp": 1588563317450,
     "user": {
      "displayName": "Harshadeep Vattikunta",
      "photoUrl": "https://lh3.googleusercontent.com/a-/AOh14GilWFFCk3AwhK6IoTPhRCX_DvodGy2cb2u8i0GspA=s64",
      "userId": "02200800715866636986"
     },
     "user_tz": -330
    },
    "id": "f7DwWvFpjyJC",
    "outputId": "b34d68c2-a0f0-4f9d-920c-97b213b28f7d"
   },
   "outputs": [
    {
     "data": {
      "text/html": [
       "<div>\n",
       "<style scoped>\n",
       "    .dataframe tbody tr th:only-of-type {\n",
       "        vertical-align: middle;\n",
       "    }\n",
       "\n",
       "    .dataframe tbody tr th {\n",
       "        vertical-align: top;\n",
       "    }\n",
       "\n",
       "    .dataframe thead th {\n",
       "        text-align: right;\n",
       "    }\n",
       "</style>\n",
       "<table border=\"1\" class=\"dataframe\">\n",
       "  <thead>\n",
       "    <tr style=\"text-align: right;\">\n",
       "      <th></th>\n",
       "      <th>Suburb</th>\n",
       "      <th>Address</th>\n",
       "      <th>Rooms</th>\n",
       "      <th>Type</th>\n",
       "      <th>Price</th>\n",
       "      <th>Method</th>\n",
       "      <th>SellerG</th>\n",
       "      <th>Date</th>\n",
       "      <th>Distance</th>\n",
       "      <th>Postcode</th>\n",
       "      <th>Bedroom2</th>\n",
       "      <th>Bathroom</th>\n",
       "      <th>Car</th>\n",
       "      <th>Landsize</th>\n",
       "      <th>BuildingArea</th>\n",
       "      <th>YearBuilt</th>\n",
       "      <th>CouncilArea</th>\n",
       "      <th>Lattitude</th>\n",
       "      <th>Longtitude</th>\n",
       "      <th>Regionname</th>\n",
       "      <th>Propertycount</th>\n",
       "    </tr>\n",
       "  </thead>\n",
       "  <tbody>\n",
       "    <tr>\n",
       "      <th>0</th>\n",
       "      <td>Abbotsford</td>\n",
       "      <td>68 Studley St</td>\n",
       "      <td>2</td>\n",
       "      <td>h</td>\n",
       "      <td>NaN</td>\n",
       "      <td>SS</td>\n",
       "      <td>Jellis</td>\n",
       "      <td>3/09/2016</td>\n",
       "      <td>2.5</td>\n",
       "      <td>3067.0</td>\n",
       "      <td>2.0</td>\n",
       "      <td>1.0</td>\n",
       "      <td>1.0</td>\n",
       "      <td>126.0</td>\n",
       "      <td>NaN</td>\n",
       "      <td>NaN</td>\n",
       "      <td>Yarra City Council</td>\n",
       "      <td>-37.8014</td>\n",
       "      <td>144.9958</td>\n",
       "      <td>Northern Metropolitan</td>\n",
       "      <td>4019.0</td>\n",
       "    </tr>\n",
       "    <tr>\n",
       "      <th>1</th>\n",
       "      <td>Abbotsford</td>\n",
       "      <td>85 Turner St</td>\n",
       "      <td>2</td>\n",
       "      <td>h</td>\n",
       "      <td>1480000.0</td>\n",
       "      <td>S</td>\n",
       "      <td>Biggin</td>\n",
       "      <td>3/12/2016</td>\n",
       "      <td>2.5</td>\n",
       "      <td>3067.0</td>\n",
       "      <td>2.0</td>\n",
       "      <td>1.0</td>\n",
       "      <td>1.0</td>\n",
       "      <td>202.0</td>\n",
       "      <td>NaN</td>\n",
       "      <td>NaN</td>\n",
       "      <td>Yarra City Council</td>\n",
       "      <td>-37.7996</td>\n",
       "      <td>144.9984</td>\n",
       "      <td>Northern Metropolitan</td>\n",
       "      <td>4019.0</td>\n",
       "    </tr>\n",
       "    <tr>\n",
       "      <th>2</th>\n",
       "      <td>Abbotsford</td>\n",
       "      <td>25 Bloomburg St</td>\n",
       "      <td>2</td>\n",
       "      <td>h</td>\n",
       "      <td>1035000.0</td>\n",
       "      <td>S</td>\n",
       "      <td>Biggin</td>\n",
       "      <td>4/02/2016</td>\n",
       "      <td>2.5</td>\n",
       "      <td>3067.0</td>\n",
       "      <td>2.0</td>\n",
       "      <td>1.0</td>\n",
       "      <td>0.0</td>\n",
       "      <td>156.0</td>\n",
       "      <td>79.0</td>\n",
       "      <td>1900.0</td>\n",
       "      <td>Yarra City Council</td>\n",
       "      <td>-37.8079</td>\n",
       "      <td>144.9934</td>\n",
       "      <td>Northern Metropolitan</td>\n",
       "      <td>4019.0</td>\n",
       "    </tr>\n",
       "    <tr>\n",
       "      <th>3</th>\n",
       "      <td>Abbotsford</td>\n",
       "      <td>18/659 Victoria St</td>\n",
       "      <td>3</td>\n",
       "      <td>u</td>\n",
       "      <td>NaN</td>\n",
       "      <td>VB</td>\n",
       "      <td>Rounds</td>\n",
       "      <td>4/02/2016</td>\n",
       "      <td>2.5</td>\n",
       "      <td>3067.0</td>\n",
       "      <td>3.0</td>\n",
       "      <td>2.0</td>\n",
       "      <td>1.0</td>\n",
       "      <td>0.0</td>\n",
       "      <td>NaN</td>\n",
       "      <td>NaN</td>\n",
       "      <td>Yarra City Council</td>\n",
       "      <td>-37.8114</td>\n",
       "      <td>145.0116</td>\n",
       "      <td>Northern Metropolitan</td>\n",
       "      <td>4019.0</td>\n",
       "    </tr>\n",
       "    <tr>\n",
       "      <th>4</th>\n",
       "      <td>Abbotsford</td>\n",
       "      <td>5 Charles St</td>\n",
       "      <td>3</td>\n",
       "      <td>h</td>\n",
       "      <td>1465000.0</td>\n",
       "      <td>SP</td>\n",
       "      <td>Biggin</td>\n",
       "      <td>4/03/2017</td>\n",
       "      <td>2.5</td>\n",
       "      <td>3067.0</td>\n",
       "      <td>3.0</td>\n",
       "      <td>2.0</td>\n",
       "      <td>0.0</td>\n",
       "      <td>134.0</td>\n",
       "      <td>150.0</td>\n",
       "      <td>1900.0</td>\n",
       "      <td>Yarra City Council</td>\n",
       "      <td>-37.8093</td>\n",
       "      <td>144.9944</td>\n",
       "      <td>Northern Metropolitan</td>\n",
       "      <td>4019.0</td>\n",
       "    </tr>\n",
       "  </tbody>\n",
       "</table>\n",
       "</div>"
      ],
      "text/plain": [
       "       Suburb             Address  ...             Regionname Propertycount\n",
       "0  Abbotsford       68 Studley St  ...  Northern Metropolitan        4019.0\n",
       "1  Abbotsford        85 Turner St  ...  Northern Metropolitan        4019.0\n",
       "2  Abbotsford     25 Bloomburg St  ...  Northern Metropolitan        4019.0\n",
       "3  Abbotsford  18/659 Victoria St  ...  Northern Metropolitan        4019.0\n",
       "4  Abbotsford        5 Charles St  ...  Northern Metropolitan        4019.0\n",
       "\n",
       "[5 rows x 21 columns]"
      ]
     },
     "execution_count": 10,
     "metadata": {
      "tags": []
     },
     "output_type": "execute_result"
    }
   ],
   "source": [
    "#Reading Dataset\n",
    "dataset1= pd.read_csv('Melbourne_housing_FULL.csv')\n",
    "dataset1.head()"
   ]
  },
  {
   "cell_type": "code",
   "execution_count": 11,
   "metadata": {
    "colab": {
     "base_uri": "https://localhost:8080/",
     "height": 391
    },
    "colab_type": "code",
    "executionInfo": {
     "elapsed": 606,
     "status": "ok",
     "timestamp": 1588563319034,
     "user": {
      "displayName": "Harshadeep Vattikunta",
      "photoUrl": "https://lh3.googleusercontent.com/a-/AOh14GilWFFCk3AwhK6IoTPhRCX_DvodGy2cb2u8i0GspA=s64",
      "userId": "02200800715866636986"
     },
     "user_tz": -330
    },
    "id": "m_5aO0VNLD2D",
    "outputId": "82a9da2a-6b98-43bf-d35e-294e378bd3f4"
   },
   "outputs": [
    {
     "data": {
      "text/plain": [
       "Suburb            object\n",
       "Address           object\n",
       "Rooms              int64\n",
       "Type              object\n",
       "Price            float64\n",
       "Method            object\n",
       "SellerG           object\n",
       "Date              object\n",
       "Distance         float64\n",
       "Postcode         float64\n",
       "Bedroom2         float64\n",
       "Bathroom         float64\n",
       "Car              float64\n",
       "Landsize         float64\n",
       "BuildingArea     float64\n",
       "YearBuilt        float64\n",
       "CouncilArea       object\n",
       "Lattitude        float64\n",
       "Longtitude       float64\n",
       "Regionname        object\n",
       "Propertycount    float64\n",
       "dtype: object"
      ]
     },
     "execution_count": 11,
     "metadata": {
      "tags": []
     },
     "output_type": "execute_result"
    }
   ],
   "source": [
    "#Columns Data Types in the Dataset\n",
    "dataset1.dtypes"
   ]
  },
  {
   "cell_type": "code",
   "execution_count": 12,
   "metadata": {
    "colab": {
     "base_uri": "https://localhost:8080/",
     "height": 34
    },
    "colab_type": "code",
    "executionInfo": {
     "elapsed": 901,
     "status": "ok",
     "timestamp": 1588563320745,
     "user": {
      "displayName": "Harshadeep Vattikunta",
      "photoUrl": "https://lh3.googleusercontent.com/a-/AOh14GilWFFCk3AwhK6IoTPhRCX_DvodGy2cb2u8i0GspA=s64",
      "userId": "02200800715866636986"
     },
     "user_tz": -330
    },
    "id": "AyDRo3Fkj-Bh",
    "outputId": "38548460-099c-4754-f87f-60723a968073"
   },
   "outputs": [
    {
     "data": {
      "text/plain": [
       "(34857, 21)"
      ]
     },
     "execution_count": 12,
     "metadata": {
      "tags": []
     },
     "output_type": "execute_result"
    }
   ],
   "source": [
    "#Shape of Dataset\n",
    "dataset1.shape"
   ]
  },
  {
   "cell_type": "code",
   "execution_count": 13,
   "metadata": {
    "colab": {
     "base_uri": "https://localhost:8080/",
     "height": 391
    },
    "colab_type": "code",
    "executionInfo": {
     "elapsed": 1197,
     "status": "ok",
     "timestamp": 1588563323212,
     "user": {
      "displayName": "Harshadeep Vattikunta",
      "photoUrl": "https://lh3.googleusercontent.com/a-/AOh14GilWFFCk3AwhK6IoTPhRCX_DvodGy2cb2u8i0GspA=s64",
      "userId": "02200800715866636986"
     },
     "user_tz": -330
    },
    "id": "iD3YQisxcudc",
    "outputId": "9b9e262b-c5cd-42a2-cce5-26990eb4fd9b"
   },
   "outputs": [
    {
     "data": {
      "text/plain": [
       "Suburb               0\n",
       "Address              0\n",
       "Rooms                0\n",
       "Type                 0\n",
       "Price             7610\n",
       "Method               0\n",
       "SellerG              0\n",
       "Date                 0\n",
       "Distance             1\n",
       "Postcode             1\n",
       "Bedroom2          8217\n",
       "Bathroom          8226\n",
       "Car               8728\n",
       "Landsize         11810\n",
       "BuildingArea     21115\n",
       "YearBuilt        19306\n",
       "CouncilArea          3\n",
       "Lattitude         7976\n",
       "Longtitude        7976\n",
       "Regionname           3\n",
       "Propertycount        3\n",
       "dtype: int64"
      ]
     },
     "execution_count": 13,
     "metadata": {
      "tags": []
     },
     "output_type": "execute_result"
    }
   ],
   "source": [
    "#Number of null values \n",
    "dataset1.isnull().sum()"
   ]
  },
  {
   "cell_type": "code",
   "execution_count": 0,
   "metadata": {
    "colab": {},
    "colab_type": "code",
    "id": "JK7D-Q6QkIQl"
   },
   "outputs": [],
   "source": [
    "#Droping all null values\n",
    "dataset1.dropna(inplace=True)\n"
   ]
  },
  {
   "cell_type": "code",
   "execution_count": 16,
   "metadata": {
    "colab": {
     "base_uri": "https://localhost:8080/",
     "height": 391
    },
    "colab_type": "code",
    "executionInfo": {
     "elapsed": 719,
     "status": "ok",
     "timestamp": 1588563327872,
     "user": {
      "displayName": "Harshadeep Vattikunta",
      "photoUrl": "https://lh3.googleusercontent.com/a-/AOh14GilWFFCk3AwhK6IoTPhRCX_DvodGy2cb2u8i0GspA=s64",
      "userId": "02200800715866636986"
     },
     "user_tz": -330
    },
    "id": "uyF9gBbJkPVc",
    "outputId": "d7b92918-b2d2-4ce6-d6e5-969cc982b55a"
   },
   "outputs": [
    {
     "data": {
      "text/plain": [
       "Suburb           0\n",
       "Address          0\n",
       "Rooms            0\n",
       "Type             0\n",
       "Price            0\n",
       "Method           0\n",
       "SellerG          0\n",
       "Date             0\n",
       "Distance         0\n",
       "Postcode         0\n",
       "Bedroom2         0\n",
       "Bathroom         0\n",
       "Car              0\n",
       "Landsize         0\n",
       "BuildingArea     0\n",
       "YearBuilt        0\n",
       "CouncilArea      0\n",
       "Lattitude        0\n",
       "Longtitude       0\n",
       "Regionname       0\n",
       "Propertycount    0\n",
       "dtype: int64"
      ]
     },
     "execution_count": 16,
     "metadata": {
      "tags": []
     },
     "output_type": "execute_result"
    }
   ],
   "source": [
    "#Checking the null values\n",
    "dataset1.isnull().sum()"
   ]
  },
  {
   "cell_type": "code",
   "execution_count": 17,
   "metadata": {
    "colab": {
     "base_uri": "https://localhost:8080/",
     "height": 444
    },
    "colab_type": "code",
    "executionInfo": {
     "elapsed": 658,
     "status": "ok",
     "timestamp": 1588563330177,
     "user": {
      "displayName": "Harshadeep Vattikunta",
      "photoUrl": "https://lh3.googleusercontent.com/a-/AOh14GilWFFCk3AwhK6IoTPhRCX_DvodGy2cb2u8i0GspA=s64",
      "userId": "02200800715866636986"
     },
     "user_tz": -330
    },
    "id": "Mnpj2o_6ZdTp",
    "outputId": "2dd4bd92-687f-4b84-89c8-ce511a55741b"
   },
   "outputs": [
    {
     "data": {
      "text/html": [
       "<div>\n",
       "<style scoped>\n",
       "    .dataframe tbody tr th:only-of-type {\n",
       "        vertical-align: middle;\n",
       "    }\n",
       "\n",
       "    .dataframe tbody tr th {\n",
       "        vertical-align: top;\n",
       "    }\n",
       "\n",
       "    .dataframe thead th {\n",
       "        text-align: right;\n",
       "    }\n",
       "</style>\n",
       "<table border=\"1\" class=\"dataframe\">\n",
       "  <thead>\n",
       "    <tr style=\"text-align: right;\">\n",
       "      <th></th>\n",
       "      <th>Suburb</th>\n",
       "      <th>Address</th>\n",
       "      <th>Rooms</th>\n",
       "      <th>Type</th>\n",
       "      <th>Price</th>\n",
       "      <th>Method</th>\n",
       "      <th>SellerG</th>\n",
       "      <th>Date</th>\n",
       "      <th>Distance</th>\n",
       "      <th>Postcode</th>\n",
       "      <th>Bedroom2</th>\n",
       "      <th>Bathroom</th>\n",
       "      <th>Car</th>\n",
       "      <th>Landsize</th>\n",
       "      <th>BuildingArea</th>\n",
       "      <th>YearBuilt</th>\n",
       "      <th>CouncilArea</th>\n",
       "      <th>Lattitude</th>\n",
       "      <th>Longtitude</th>\n",
       "      <th>Regionname</th>\n",
       "      <th>Propertycount</th>\n",
       "    </tr>\n",
       "  </thead>\n",
       "  <tbody>\n",
       "    <tr>\n",
       "      <th>count</th>\n",
       "      <td>8887</td>\n",
       "      <td>8887</td>\n",
       "      <td>8887.000000</td>\n",
       "      <td>8887</td>\n",
       "      <td>8.887000e+03</td>\n",
       "      <td>8887</td>\n",
       "      <td>8887</td>\n",
       "      <td>8887</td>\n",
       "      <td>8887.000000</td>\n",
       "      <td>8887.000000</td>\n",
       "      <td>8887.000000</td>\n",
       "      <td>8887.000000</td>\n",
       "      <td>8887.000000</td>\n",
       "      <td>8887.000000</td>\n",
       "      <td>8887.000000</td>\n",
       "      <td>8887.000000</td>\n",
       "      <td>8887</td>\n",
       "      <td>8887.000000</td>\n",
       "      <td>8887.000000</td>\n",
       "      <td>8887</td>\n",
       "      <td>8887.000000</td>\n",
       "    </tr>\n",
       "    <tr>\n",
       "      <th>unique</th>\n",
       "      <td>315</td>\n",
       "      <td>8764</td>\n",
       "      <td>NaN</td>\n",
       "      <td>3</td>\n",
       "      <td>NaN</td>\n",
       "      <td>5</td>\n",
       "      <td>250</td>\n",
       "      <td>77</td>\n",
       "      <td>NaN</td>\n",
       "      <td>NaN</td>\n",
       "      <td>NaN</td>\n",
       "      <td>NaN</td>\n",
       "      <td>NaN</td>\n",
       "      <td>NaN</td>\n",
       "      <td>NaN</td>\n",
       "      <td>NaN</td>\n",
       "      <td>33</td>\n",
       "      <td>NaN</td>\n",
       "      <td>NaN</td>\n",
       "      <td>8</td>\n",
       "      <td>NaN</td>\n",
       "    </tr>\n",
       "    <tr>\n",
       "      <th>top</th>\n",
       "      <td>Reservoir</td>\n",
       "      <td>36 Aberfeldie St</td>\n",
       "      <td>NaN</td>\n",
       "      <td>h</td>\n",
       "      <td>NaN</td>\n",
       "      <td>S</td>\n",
       "      <td>Nelson</td>\n",
       "      <td>24/02/2018</td>\n",
       "      <td>NaN</td>\n",
       "      <td>NaN</td>\n",
       "      <td>NaN</td>\n",
       "      <td>NaN</td>\n",
       "      <td>NaN</td>\n",
       "      <td>NaN</td>\n",
       "      <td>NaN</td>\n",
       "      <td>NaN</td>\n",
       "      <td>Boroondara City Council</td>\n",
       "      <td>NaN</td>\n",
       "      <td>NaN</td>\n",
       "      <td>Southern Metropolitan</td>\n",
       "      <td>NaN</td>\n",
       "    </tr>\n",
       "    <tr>\n",
       "      <th>freq</th>\n",
       "      <td>194</td>\n",
       "      <td>3</td>\n",
       "      <td>NaN</td>\n",
       "      <td>6625</td>\n",
       "      <td>NaN</td>\n",
       "      <td>5602</td>\n",
       "      <td>986</td>\n",
       "      <td>227</td>\n",
       "      <td>NaN</td>\n",
       "      <td>NaN</td>\n",
       "      <td>NaN</td>\n",
       "      <td>NaN</td>\n",
       "      <td>NaN</td>\n",
       "      <td>NaN</td>\n",
       "      <td>NaN</td>\n",
       "      <td>NaN</td>\n",
       "      <td>810</td>\n",
       "      <td>NaN</td>\n",
       "      <td>NaN</td>\n",
       "      <td>2707</td>\n",
       "      <td>NaN</td>\n",
       "    </tr>\n",
       "    <tr>\n",
       "      <th>mean</th>\n",
       "      <td>NaN</td>\n",
       "      <td>NaN</td>\n",
       "      <td>3.098909</td>\n",
       "      <td>NaN</td>\n",
       "      <td>1.092902e+06</td>\n",
       "      <td>NaN</td>\n",
       "      <td>NaN</td>\n",
       "      <td>NaN</td>\n",
       "      <td>11.199887</td>\n",
       "      <td>3111.662653</td>\n",
       "      <td>3.078204</td>\n",
       "      <td>1.646450</td>\n",
       "      <td>1.692247</td>\n",
       "      <td>523.480365</td>\n",
       "      <td>149.309477</td>\n",
       "      <td>1965.753348</td>\n",
       "      <td>NaN</td>\n",
       "      <td>-37.804501</td>\n",
       "      <td>144.991393</td>\n",
       "      <td>NaN</td>\n",
       "      <td>7475.940137</td>\n",
       "    </tr>\n",
       "    <tr>\n",
       "      <th>std</th>\n",
       "      <td>NaN</td>\n",
       "      <td>NaN</td>\n",
       "      <td>0.963786</td>\n",
       "      <td>NaN</td>\n",
       "      <td>6.793819e+05</td>\n",
       "      <td>NaN</td>\n",
       "      <td>NaN</td>\n",
       "      <td>NaN</td>\n",
       "      <td>6.813402</td>\n",
       "      <td>112.614268</td>\n",
       "      <td>0.966269</td>\n",
       "      <td>0.721611</td>\n",
       "      <td>0.975464</td>\n",
       "      <td>1061.324228</td>\n",
       "      <td>87.925580</td>\n",
       "      <td>37.040876</td>\n",
       "      <td>NaN</td>\n",
       "      <td>0.090549</td>\n",
       "      <td>0.118919</td>\n",
       "      <td>NaN</td>\n",
       "      <td>4375.024364</td>\n",
       "    </tr>\n",
       "    <tr>\n",
       "      <th>min</th>\n",
       "      <td>NaN</td>\n",
       "      <td>NaN</td>\n",
       "      <td>1.000000</td>\n",
       "      <td>NaN</td>\n",
       "      <td>1.310000e+05</td>\n",
       "      <td>NaN</td>\n",
       "      <td>NaN</td>\n",
       "      <td>NaN</td>\n",
       "      <td>0.000000</td>\n",
       "      <td>3000.000000</td>\n",
       "      <td>0.000000</td>\n",
       "      <td>1.000000</td>\n",
       "      <td>0.000000</td>\n",
       "      <td>0.000000</td>\n",
       "      <td>0.000000</td>\n",
       "      <td>1196.000000</td>\n",
       "      <td>NaN</td>\n",
       "      <td>-38.174360</td>\n",
       "      <td>144.423790</td>\n",
       "      <td>NaN</td>\n",
       "      <td>249.000000</td>\n",
       "    </tr>\n",
       "    <tr>\n",
       "      <th>25%</th>\n",
       "      <td>NaN</td>\n",
       "      <td>NaN</td>\n",
       "      <td>2.000000</td>\n",
       "      <td>NaN</td>\n",
       "      <td>6.410000e+05</td>\n",
       "      <td>NaN</td>\n",
       "      <td>NaN</td>\n",
       "      <td>NaN</td>\n",
       "      <td>6.400000</td>\n",
       "      <td>3044.000000</td>\n",
       "      <td>2.000000</td>\n",
       "      <td>1.000000</td>\n",
       "      <td>1.000000</td>\n",
       "      <td>212.000000</td>\n",
       "      <td>100.000000</td>\n",
       "      <td>1945.000000</td>\n",
       "      <td>NaN</td>\n",
       "      <td>-37.858560</td>\n",
       "      <td>144.920000</td>\n",
       "      <td>NaN</td>\n",
       "      <td>4382.500000</td>\n",
       "    </tr>\n",
       "    <tr>\n",
       "      <th>50%</th>\n",
       "      <td>NaN</td>\n",
       "      <td>NaN</td>\n",
       "      <td>3.000000</td>\n",
       "      <td>NaN</td>\n",
       "      <td>9.000000e+05</td>\n",
       "      <td>NaN</td>\n",
       "      <td>NaN</td>\n",
       "      <td>NaN</td>\n",
       "      <td>10.200000</td>\n",
       "      <td>3084.000000</td>\n",
       "      <td>3.000000</td>\n",
       "      <td>2.000000</td>\n",
       "      <td>2.000000</td>\n",
       "      <td>478.000000</td>\n",
       "      <td>132.000000</td>\n",
       "      <td>1970.000000</td>\n",
       "      <td>NaN</td>\n",
       "      <td>-37.798700</td>\n",
       "      <td>144.998500</td>\n",
       "      <td>NaN</td>\n",
       "      <td>6567.000000</td>\n",
       "    </tr>\n",
       "    <tr>\n",
       "      <th>75%</th>\n",
       "      <td>NaN</td>\n",
       "      <td>NaN</td>\n",
       "      <td>4.000000</td>\n",
       "      <td>NaN</td>\n",
       "      <td>1.345000e+06</td>\n",
       "      <td>NaN</td>\n",
       "      <td>NaN</td>\n",
       "      <td>NaN</td>\n",
       "      <td>13.900000</td>\n",
       "      <td>3150.000000</td>\n",
       "      <td>4.000000</td>\n",
       "      <td>2.000000</td>\n",
       "      <td>2.000000</td>\n",
       "      <td>652.000000</td>\n",
       "      <td>180.000000</td>\n",
       "      <td>2000.000000</td>\n",
       "      <td>NaN</td>\n",
       "      <td>-37.748945</td>\n",
       "      <td>145.064560</td>\n",
       "      <td>NaN</td>\n",
       "      <td>10331.000000</td>\n",
       "    </tr>\n",
       "    <tr>\n",
       "      <th>max</th>\n",
       "      <td>NaN</td>\n",
       "      <td>NaN</td>\n",
       "      <td>12.000000</td>\n",
       "      <td>NaN</td>\n",
       "      <td>9.000000e+06</td>\n",
       "      <td>NaN</td>\n",
       "      <td>NaN</td>\n",
       "      <td>NaN</td>\n",
       "      <td>47.400000</td>\n",
       "      <td>3977.000000</td>\n",
       "      <td>12.000000</td>\n",
       "      <td>9.000000</td>\n",
       "      <td>10.000000</td>\n",
       "      <td>42800.000000</td>\n",
       "      <td>3112.000000</td>\n",
       "      <td>2019.000000</td>\n",
       "      <td>NaN</td>\n",
       "      <td>-37.407200</td>\n",
       "      <td>145.526350</td>\n",
       "      <td>NaN</td>\n",
       "      <td>21650.000000</td>\n",
       "    </tr>\n",
       "  </tbody>\n",
       "</table>\n",
       "</div>"
      ],
      "text/plain": [
       "           Suburb           Address  ...             Regionname Propertycount\n",
       "count        8887              8887  ...                   8887   8887.000000\n",
       "unique        315              8764  ...                      8           NaN\n",
       "top     Reservoir  36 Aberfeldie St  ...  Southern Metropolitan           NaN\n",
       "freq          194                 3  ...                   2707           NaN\n",
       "mean          NaN               NaN  ...                    NaN   7475.940137\n",
       "std           NaN               NaN  ...                    NaN   4375.024364\n",
       "min           NaN               NaN  ...                    NaN    249.000000\n",
       "25%           NaN               NaN  ...                    NaN   4382.500000\n",
       "50%           NaN               NaN  ...                    NaN   6567.000000\n",
       "75%           NaN               NaN  ...                    NaN  10331.000000\n",
       "max           NaN               NaN  ...                    NaN  21650.000000\n",
       "\n",
       "[11 rows x 21 columns]"
      ]
     },
     "execution_count": 17,
     "metadata": {
      "tags": []
     },
     "output_type": "execute_result"
    }
   ],
   "source": [
    "#A detailed description of the datset\n",
    "dataset1.describe(include='all')"
   ]
  },
  {
   "cell_type": "code",
   "execution_count": 26,
   "metadata": {
    "colab": {
     "base_uri": "https://localhost:8080/",
     "height": 401
    },
    "colab_type": "code",
    "executionInfo": {
     "elapsed": 1630,
     "status": "ok",
     "timestamp": 1588563887947,
     "user": {
      "displayName": "Harshadeep Vattikunta",
      "photoUrl": "https://lh3.googleusercontent.com/a-/AOh14GilWFFCk3AwhK6IoTPhRCX_DvodGy2cb2u8i0GspA=s64",
      "userId": "02200800715866636986"
     },
     "user_tz": -330
    },
    "id": "2yzoW95RklXJ",
    "outputId": "7c49ece6-d6de-45c5-8810-4a3c753834da"
   },
   "outputs": [
    {
     "data": {
      "text/plain": [
       "<matplotlib.axes._subplots.AxesSubplot at 0x7ff4c3afd860>"
      ]
     },
     "execution_count": 26,
     "metadata": {
      "tags": []
     },
     "output_type": "execute_result"
    },
    {
     "data": {
      "image/png": "[encoded data removed]",
      "text/plain": [
       "<Figure size 504x360 with 2 Axes>"
      ]
     },
     "metadata": {
      "needs_background": "light",
      "tags": []
     },
     "output_type": "display_data"
    }
   ],
   "source": [
    "#Finding Correlation between variables\n",
    "corr = dataset1.corr()\n",
    "plt.subplots(figsize=(7,5))\n",
    "mask = np.zeros(corr.shape, dtype=bool)\n",
    "mask[np.triu_indices(len(mask))] = True\n",
    "sns.heatmap(corr, vmin = -1, vmax = 1, center = 0, cmap = 'coolwarm', annot = True, mask = mask)"
   ]
  },
  {
   "cell_type": "code",
   "execution_count": 0,
   "metadata": {
    "colab": {},
    "colab_type": "code",
    "id": "dV3dmEGbiHY4"
   },
   "outputs": [],
   "source": [
    "#Droping highly correlated features\n",
    "data = dataset1.drop(columns=['Bedroom2'])"
   ]
  },
  {
   "cell_type": "code",
   "execution_count": 0,
   "metadata": {
    "colab": {},
    "colab_type": "code",
    "id": "6Hh6fjz-lXx3"
   },
   "outputs": [],
   "source": [
    "#Label encoding the all the categorical feautures\n",
    "from sklearn.preprocessing import LabelEncoder\n",
    "le = LabelEncoder()\n",
    "cat_list=['Suburb', 'Type','Date','Method','Postcode','SellerG','Regionname','Address','CouncilArea']\n",
    "data[cat_list]=data[cat_list].apply(lambda x:le.fit_transform(x))"
   ]
  },
  {
   "cell_type": "code",
   "execution_count": 0,
   "metadata": {
    "colab": {
     "base_uri": "https://localhost:8080/",
     "height": 224
    },
    "colab_type": "code",
    "executionInfo": {
     "elapsed": 7201,
     "status": "ok",
     "timestamp": 1588523931026,
     "user": {
      "displayName": "Harshadeep Vattikunta",
      "photoUrl": "https://lh3.googleusercontent.com/a-/AOh14GilWFFCk3AwhK6IoTPhRCX_DvodGy2cb2u8i0GspA=s64",
      "userId": "02200800715866636986"
     },
     "user_tz": -330
    },
    "id": "jT3QCr5Il1Rz",
    "outputId": "0f129003-8984-403e-c336-fc7d7c9ea49c"
   },
   "outputs": [
    {
     "data": {
      "text/html": [
       "<div>\n",
       "<style scoped>\n",
       "    .dataframe tbody tr th:only-of-type {\n",
       "        vertical-align: middle;\n",
       "    }\n",
       "\n",
       "    .dataframe tbody tr th {\n",
       "        vertical-align: top;\n",
       "    }\n",
       "\n",
       "    .dataframe thead th {\n",
       "        text-align: right;\n",
       "    }\n",
       "</style>\n",
       "<table border=\"1\" class=\"dataframe\">\n",
       "  <thead>\n",
       "    <tr style=\"text-align: right;\">\n",
       "      <th></th>\n",
       "      <th>Suburb</th>\n",
       "      <th>Address</th>\n",
       "      <th>Rooms</th>\n",
       "      <th>Type</th>\n",
       "      <th>Price</th>\n",
       "      <th>Method</th>\n",
       "      <th>SellerG</th>\n",
       "      <th>Date</th>\n",
       "      <th>Distance</th>\n",
       "      <th>Postcode</th>\n",
       "      <th>Bathroom</th>\n",
       "      <th>Car</th>\n",
       "      <th>Landsize</th>\n",
       "      <th>BuildingArea</th>\n",
       "      <th>YearBuilt</th>\n",
       "      <th>CouncilArea</th>\n",
       "      <th>Lattitude</th>\n",
       "      <th>Longtitude</th>\n",
       "      <th>Regionname</th>\n",
       "      <th>Propertycount</th>\n",
       "    </tr>\n",
       "  </thead>\n",
       "  <tbody>\n",
       "    <tr>\n",
       "      <th>2</th>\n",
       "      <td>0</td>\n",
       "      <td>3922</td>\n",
       "      <td>2</td>\n",
       "      <td>0</td>\n",
       "      <td>1035000.0</td>\n",
       "      <td>1</td>\n",
       "      <td>22</td>\n",
       "      <td>62</td>\n",
       "      <td>2.5</td>\n",
       "      <td>52</td>\n",
       "      <td>1.0</td>\n",
       "      <td>0.0</td>\n",
       "      <td>156.0</td>\n",
       "      <td>79.0</td>\n",
       "      <td>1900.0</td>\n",
       "      <td>31</td>\n",
       "      <td>-37.8079</td>\n",
       "      <td>144.9934</td>\n",
       "      <td>2</td>\n",
       "      <td>4019.0</td>\n",
       "    </tr>\n",
       "    <tr>\n",
       "      <th>4</th>\n",
       "      <td>0</td>\n",
       "      <td>6458</td>\n",
       "      <td>3</td>\n",
       "      <td>0</td>\n",
       "      <td>1465000.0</td>\n",
       "      <td>3</td>\n",
       "      <td>22</td>\n",
       "      <td>63</td>\n",
       "      <td>2.5</td>\n",
       "      <td>52</td>\n",
       "      <td>2.0</td>\n",
       "      <td>0.0</td>\n",
       "      <td>134.0</td>\n",
       "      <td>150.0</td>\n",
       "      <td>1900.0</td>\n",
       "      <td>31</td>\n",
       "      <td>-37.8093</td>\n",
       "      <td>144.9944</td>\n",
       "      <td>2</td>\n",
       "      <td>4019.0</td>\n",
       "    </tr>\n",
       "    <tr>\n",
       "      <th>6</th>\n",
       "      <td>0</td>\n",
       "      <td>6960</td>\n",
       "      <td>4</td>\n",
       "      <td>0</td>\n",
       "      <td>1600000.0</td>\n",
       "      <td>4</td>\n",
       "      <td>147</td>\n",
       "      <td>64</td>\n",
       "      <td>2.5</td>\n",
       "      <td>52</td>\n",
       "      <td>1.0</td>\n",
       "      <td>2.0</td>\n",
       "      <td>120.0</td>\n",
       "      <td>142.0</td>\n",
       "      <td>2014.0</td>\n",
       "      <td>31</td>\n",
       "      <td>-37.8072</td>\n",
       "      <td>144.9941</td>\n",
       "      <td>2</td>\n",
       "      <td>4019.0</td>\n",
       "    </tr>\n",
       "    <tr>\n",
       "      <th>11</th>\n",
       "      <td>0</td>\n",
       "      <td>1374</td>\n",
       "      <td>3</td>\n",
       "      <td>0</td>\n",
       "      <td>1876000.0</td>\n",
       "      <td>1</td>\n",
       "      <td>147</td>\n",
       "      <td>69</td>\n",
       "      <td>2.5</td>\n",
       "      <td>52</td>\n",
       "      <td>2.0</td>\n",
       "      <td>0.0</td>\n",
       "      <td>245.0</td>\n",
       "      <td>210.0</td>\n",
       "      <td>1910.0</td>\n",
       "      <td>31</td>\n",
       "      <td>-37.8024</td>\n",
       "      <td>144.9993</td>\n",
       "      <td>2</td>\n",
       "      <td>4019.0</td>\n",
       "    </tr>\n",
       "    <tr>\n",
       "      <th>14</th>\n",
       "      <td>0</td>\n",
       "      <td>8740</td>\n",
       "      <td>2</td>\n",
       "      <td>0</td>\n",
       "      <td>1636000.0</td>\n",
       "      <td>1</td>\n",
       "      <td>147</td>\n",
       "      <td>74</td>\n",
       "      <td>2.5</td>\n",
       "      <td>52</td>\n",
       "      <td>1.0</td>\n",
       "      <td>2.0</td>\n",
       "      <td>256.0</td>\n",
       "      <td>107.0</td>\n",
       "      <td>1890.0</td>\n",
       "      <td>31</td>\n",
       "      <td>-37.8060</td>\n",
       "      <td>144.9954</td>\n",
       "      <td>2</td>\n",
       "      <td>4019.0</td>\n",
       "    </tr>\n",
       "  </tbody>\n",
       "</table>\n",
       "</div>"
      ],
      "text/plain": [
       "    Suburb  Address  Rooms  ...  Longtitude  Regionname  Propertycount\n",
       "2        0     3922      2  ...    144.9934           2         4019.0\n",
       "4        0     6458      3  ...    144.9944           2         4019.0\n",
       "6        0     6960      4  ...    144.9941           2         4019.0\n",
       "11       0     1374      3  ...    144.9993           2         4019.0\n",
       "14       0     8740      2  ...    144.9954           2         4019.0\n",
       "\n",
       "[5 rows x 20 columns]"
      ]
     },
     "execution_count": 15,
     "metadata": {
      "tags": []
     },
     "output_type": "execute_result"
    }
   ],
   "source": [
    "#Checking the categorical features\n",
    "data.head()"
   ]
  },
  {
   "cell_type": "code",
   "execution_count": 0,
   "metadata": {
    "colab": {
     "base_uri": "https://localhost:8080/",
     "height": 136
    },
    "colab_type": "code",
    "executionInfo": {
     "elapsed": 7183,
     "status": "ok",
     "timestamp": 1588523931029,
     "user": {
      "displayName": "Harshadeep Vattikunta",
      "photoUrl": "https://lh3.googleusercontent.com/a-/AOh14GilWFFCk3AwhK6IoTPhRCX_DvodGy2cb2u8i0GspA=s64",
      "userId": "02200800715866636986"
     },
     "user_tz": -330
    },
    "id": "eD9xB-_pqyFh",
    "outputId": "a8a49038-226c-4c9c-8368-b099e3dba01c"
   },
   "outputs": [
    {
     "name": "stdout",
     "output_type": "stream",
     "text": [
      "[[1.73111781 0.18233325 1.14026379 ... 0.01687393 0.84306828 0.7901978 ]\n",
      " [1.73111781 0.82011601 0.10263075 ... 0.02528345 0.84306828 0.7901978 ]\n",
      " [1.73111781 1.01855037 0.9350023  ... 0.02276059 0.84306828 0.7901978 ]\n",
      " ...\n",
      " [1.75194993 0.00938122 1.14026379 ... 0.86730363 1.10793695 0.21325427]\n",
      " [1.75194993 1.00018322 1.14026379 ... 0.94887603 1.10793695 0.21325427]\n",
      " [1.75194993 0.09515862 1.14026379 ... 0.82315361 1.10793695 0.21325427]]\n"
     ]
    }
   ],
   "source": [
    "#Calculating Z score for detecting outliners\n",
    "from scipy import stats\n",
    "z = np.abs(stats.zscore(data))\n",
    "print(z)"
   ]
  },
  {
   "cell_type": "code",
   "execution_count": 0,
   "metadata": {
    "colab": {
     "base_uri": "https://localhost:8080/",
     "height": 34
    },
    "colab_type": "code",
    "executionInfo": {
     "elapsed": 7165,
     "status": "ok",
     "timestamp": 1588523931031,
     "user": {
      "displayName": "Harshadeep Vattikunta",
      "photoUrl": "https://lh3.googleusercontent.com/a-/AOh14GilWFFCk3AwhK6IoTPhRCX_DvodGy2cb2u8i0GspA=s64",
      "userId": "02200800715866636986"
     },
     "user_tz": -330
    },
    "id": "9sBPfvv2td8y",
    "outputId": "1e4aaf28-1360-4ec5-8d05-2a00663c1517"
   },
   "outputs": [
    {
     "name": "stdout",
     "output_type": "stream",
     "text": [
      "(array([  31,   35,   41, ..., 8858, 8867, 8879]), array([ 2, 11, 11, ...,  8, 11, 11]))\n"
     ]
    }
   ],
   "source": [
    "#Positions of Outliers\n",
    "print(np.where(z > 3))"
   ]
  },
  {
   "cell_type": "code",
   "execution_count": 0,
   "metadata": {
    "colab": {},
    "colab_type": "code",
    "id": "fiOcp4mmvriX"
   },
   "outputs": [],
   "source": [
    "#removing all Outliers\n",
    "data1 = data[(z < 3).all(axis=1)]"
   ]
  },
  {
   "cell_type": "code",
   "execution_count": 0,
   "metadata": {
    "colab": {
     "base_uri": "https://localhost:8080/",
     "height": 34
    },
    "colab_type": "code",
    "executionInfo": {
     "elapsed": 7133,
     "status": "ok",
     "timestamp": 1588523931034,
     "user": {
      "displayName": "Harshadeep Vattikunta",
      "photoUrl": "https://lh3.googleusercontent.com/a-/AOh14GilWFFCk3AwhK6IoTPhRCX_DvodGy2cb2u8i0GspA=s64",
      "userId": "02200800715866636986"
     },
     "user_tz": -330
    },
    "id": "ckfXPvU0wauE",
    "outputId": "7f0974f9-57b7-426f-dd30-73d83de096a0"
   },
   "outputs": [
    {
     "data": {
      "text/plain": [
       "(7938, 20)"
      ]
     },
     "execution_count": 19,
     "metadata": {
      "tags": []
     },
     "output_type": "execute_result"
    }
   ],
   "source": [
    "#To see the information we lost\n",
    "data1.shape"
   ]
  },
  {
   "cell_type": "code",
   "execution_count": 0,
   "metadata": {
    "colab": {
     "base_uri": "https://localhost:8080/",
     "height": 238
    },
    "colab_type": "code",
    "executionInfo": {
     "elapsed": 7116,
     "status": "ok",
     "timestamp": 1588523931036,
     "user": {
      "displayName": "Harshadeep Vattikunta",
      "photoUrl": "https://lh3.googleusercontent.com/a-/AOh14GilWFFCk3AwhK6IoTPhRCX_DvodGy2cb2u8i0GspA=s64",
      "userId": "02200800715866636986"
     },
     "user_tz": -330
    },
    "id": "CErZOJL3lk3v",
    "outputId": "b3ff9d0d-f640-404e-cf9e-05a7840f733d"
   },
   "outputs": [
    {
     "data": {
      "text/plain": [
       "array([[0.0000000e+00, 3.9220000e+03, 2.0000000e+00, ..., 1.4499340e+02,\n",
       "        2.0000000e+00, 4.0190000e+03],\n",
       "       [0.0000000e+00, 6.4580000e+03, 3.0000000e+00, ..., 1.4499440e+02,\n",
       "        2.0000000e+00, 4.0190000e+03],\n",
       "       [0.0000000e+00, 6.9600000e+03, 4.0000000e+00, ..., 1.4499410e+02,\n",
       "        2.0000000e+00, 4.0190000e+03],\n",
       "       ...,\n",
       "       [3.1400000e+02, 4.4070000e+03, 2.0000000e+00, ..., 1.4488826e+02,\n",
       "        6.0000000e+00, 6.5430000e+03],\n",
       "       [3.1400000e+02, 1.8530000e+03, 2.0000000e+00, ..., 1.4487856e+02,\n",
       "        6.0000000e+00, 6.5430000e+03],\n",
       "       [3.1400000e+02, 4.6240000e+03, 2.0000000e+00, ..., 1.4489351e+02,\n",
       "        6.0000000e+00, 6.5430000e+03]])"
      ]
     },
     "execution_count": 20,
     "metadata": {
      "tags": []
     },
     "output_type": "execute_result"
    }
   ],
   "source": [
    "#Slicing dataset into Independent(X) and Target(y) varibles\n",
    "X = data1.iloc[:, [0,1,2,3,5,6,7,8,9,10,11,12,13,14,15,16,17,18,19]].values\n",
    "y = data1.iloc[:, 4].values\n"
   ]
  },
  {
   "cell_type": "code",
   "execution_count": 0,
   "metadata": {
    "colab": {
     "base_uri": "https://localhost:8080/",
     "height": 51
    },
    "colab_type": "code",
    "executionInfo": {
     "elapsed": 6945,
     "status": "ok",
     "timestamp": 1588523931038,
     "user": {
      "displayName": "Harshadeep Vattikunta",
      "photoUrl": "https://lh3.googleusercontent.com/a-/AOh14GilWFFCk3AwhK6IoTPhRCX_DvodGy2cb2u8i0GspA=s64",
      "userId": "02200800715866636986"
     },
     "user_tz": -330
    },
    "id": "0pbbV936mXdZ",
    "outputId": "b5ff0dfb-9d59-4397-fde2-cd498ed376ce"
   },
   "outputs": [
    {
     "name": "stdout",
     "output_type": "stream",
     "text": [
      "(5556, 19)\n",
      "(5556, 1)\n"
     ]
    }
   ],
   "source": [
    "#Dividing dataset into test and train\n",
    "\n",
    "from sklearn.model_selection import train_test_split\n",
    "X_train, X_test, y_train, y_test = train_test_split(X, y, test_size = 0.3, random_state = 0)\n",
    "X_train = pd.DataFrame(X_train)\n",
    "y_train = pd.DataFrame(y_train)\n",
    "print(X_train.shape)\n",
    "print(y_train.shape)"
   ]
  },
  {
   "cell_type": "code",
   "execution_count": 0,
   "metadata": {
    "colab": {
     "base_uri": "https://localhost:8080/",
     "height": 71
    },
    "colab_type": "code",
    "executionInfo": {
     "elapsed": 265031,
     "status": "ok",
     "timestamp": 1588524189174,
     "user": {
      "displayName": "Harshadeep Vattikunta",
      "photoUrl": "https://lh3.googleusercontent.com/a-/AOh14GilWFFCk3AwhK6IoTPhRCX_DvodGy2cb2u8i0GspA=s64",
      "userId": "02200800715866636986"
     },
     "user_tz": -330
    },
    "id": "VK5MmcMw_ecY",
    "outputId": "b26e32c7-4c50-4059-e767-9aca064ea0e8"
   },
   "outputs": [
    {
     "name": "stderr",
     "output_type": "stream",
     "text": [
      "/usr/local/lib/python3.6/dist-packages/sklearn/utils/validation.py:760: DataConversionWarning: A column-vector y was passed when a 1d array was expected. Please change the shape of y to (n_samples, ), for example using ravel().\n",
      "  y = column_or_1d(y, warn=True)\n"
     ]
    }
   ],
   "source": [
    "#Performing Recursive Feauture Elimation with Cross Validation\n",
    "#Using Random forest for RFE-CV and r2 square as scoring\n",
    "\n",
    "from sklearn.feature_selection import RFECV\n",
    "from sklearn.ensemble import RandomForestRegressor\n",
    "from sklearn.metrics import f1_score,confusion_matrix\n",
    "from sklearn.metrics import accuracy_score\n",
    "clf_rf=RandomForestRegressor()\n",
    "rfecv=RFECV(estimator=clf_rf, step=1,cv=5,scoring='r2')\n",
    "rfecv=rfecv.fit(X_train,y_train)"
   ]
  },
  {
   "cell_type": "code",
   "execution_count": 0,
   "metadata": {
    "colab": {
     "base_uri": "https://localhost:8080/",
     "height": 51
    },
    "colab_type": "code",
    "executionInfo": {
     "elapsed": 265005,
     "status": "ok",
     "timestamp": 1588524189181,
     "user": {
      "displayName": "Harshadeep Vattikunta",
      "photoUrl": "https://lh3.googleusercontent.com/a-/AOh14GilWFFCk3AwhK6IoTPhRCX_DvodGy2cb2u8i0GspA=s64",
      "userId": "02200800715866636986"
     },
     "user_tz": -330
    },
    "id": "sngYp__CEDI1",
    "outputId": "02379e92-973a-4f58-9e34-134de7a8f1bc"
   },
   "outputs": [
    {
     "name": "stdout",
     "output_type": "stream",
     "text": [
      "Optimal number of features : 17\n",
      "Best features : Int64Index([0, 1, 2, 3, 5, 6, 7, 8, 9, 10, 11, 12, 13, 14, 15, 16, 18], dtype='int64')\n"
     ]
    }
   ],
   "source": [
    "#Optimal Features\n",
    "print('Optimal number of features :', rfecv.n_features_)\n",
    "print('Best features :', X_train.columns[rfecv.support_])"
   ]
  },
  {
   "cell_type": "code",
   "execution_count": 0,
   "metadata": {
    "colab": {
     "base_uri": "https://localhost:8080/",
     "height": 304
    },
    "colab_type": "code",
    "executionInfo": {
     "elapsed": 264987,
     "status": "ok",
     "timestamp": 1588524189182,
     "user": {
      "displayName": "Harshadeep Vattikunta",
      "photoUrl": "https://lh3.googleusercontent.com/a-/AOh14GilWFFCk3AwhK6IoTPhRCX_DvodGy2cb2u8i0GspA=s64",
      "userId": "02200800715866636986"
     },
     "user_tz": -330
    },
    "id": "mUVb6f9eNr4A",
    "outputId": "f94aa799-d11b-455b-caac-b94e75c4288a"
   },
   "outputs": [
    {
     "data": {
      "image/png": "[encoded data removed]",
      "text/plain": [
       "<Figure size 432x288 with 1 Axes>"
      ]
     },
     "metadata": {
      "needs_background": "light",
      "tags": []
     },
     "output_type": "display_data"
    }
   ],
   "source": [
    "#r2 square vs Number of features\n",
    "import matplotlib.pyplot as plt\n",
    "plt.figure()\n",
    "plt.xlabel(\"Number of features selected\")\n",
    "plt.ylabel(\"Cross validation score of number of selected features\")\n",
    "plt.plot(range(1, len(rfecv.grid_scores_) + 1), rfecv.grid_scores_)\n",
    "plt.show()"
   ]
  },
  {
   "cell_type": "code",
   "execution_count": 0,
   "metadata": {
    "colab": {
     "base_uri": "https://localhost:8080/",
     "height": 411
    },
    "colab_type": "code",
    "executionInfo": {
     "elapsed": 269557,
     "status": "ok",
     "timestamp": 1588524194000,
     "user": {
      "displayName": "Harshadeep Vattikunta",
      "photoUrl": "https://lh3.googleusercontent.com/a-/AOh14GilWFFCk3AwhK6IoTPhRCX_DvodGy2cb2u8i0GspA=s64",
      "userId": "02200800715866636986"
     },
     "user_tz": -330
    },
    "id": "1YIfJBf8p5z8",
    "outputId": "9a409594-4d31-4953-9d46-847689989381"
   },
   "outputs": [
    {
     "name": "stderr",
     "output_type": "stream",
     "text": [
      "/usr/local/lib/python3.6/dist-packages/ipykernel_launcher.py:1: DataConversionWarning: A column-vector y was passed when a 1d array was expected. Please change the shape of y to (n_samples,), for example using ravel().\n",
      "  \"\"\"Entry point for launching an IPython kernel.\n"
     ]
    },
    {
     "name": "stdout",
     "output_type": "stream",
     "text": [
      "Feature ranking:\n",
      "1. feature 12 (30.977903)\n",
      "2. feature 7 (16.695442)\n",
      "3. feature 13 (12.802571)\n",
      "4. feature 8 (12.457822)\n",
      "5. feature 15 (4.538164)\n",
      "6. feature 11 (4.348680)\n",
      "7. feature 16 (3.757320)\n",
      "8. feature 3 (2.595830)\n",
      "9. feature 14 (2.287582)\n",
      "10. feature 2 (1.814548)\n",
      "11. feature 1 (1.508952)\n",
      "12. feature 18 (1.313721)\n",
      "13. feature 6 (1.206161)\n",
      "14. feature 0 (0.997666)\n",
      "15. feature 5 (0.932729)\n",
      "16. feature 9 (0.661466)\n",
      "17. feature 10 (0.461689)\n",
      "18. feature 4 (0.380468)\n",
      "19. feature 17 (0.261287)\n"
     ]
    }
   ],
   "source": [
    "#Feature ranking\n",
    "clf_rf = clf_rf.fit(X_train,y_train)\n",
    "importances = clf_rf.feature_importances_\n",
    "\n",
    "std = np.std([tree.feature_importances_ for tree in clf_rf.estimators_],\n",
    "             axis=0)\n",
    "indices = np.argsort(importances)[::-1]\n",
    "print(\"Feature ranking:\")\n",
    "\n",
    "for f in range(X_train.shape[1]):\n",
    "    print(\"%d. feature %d (%f)\" % (f + 1, indices[f], importances[indices[f]]*100))\n"
   ]
  },
  {
   "cell_type": "code",
   "execution_count": 0,
   "metadata": {
    "colab": {},
    "colab_type": "code",
    "id": "rvPdpXQ5EDb3"
   },
   "outputs": [],
   "source": [
    "#Selecting the Important Features\n",
    "opt_feat = list((X_train.columns[rfecv.support_]))\n",
    "X_train = pd.DataFrame(X_train)\n",
    "X_test = pd.DataFrame(X_test)\n",
    "X_opt = X_train.iloc[:,opt_feat]\n",
    "X_test = X_test.iloc[:,opt_feat]"
   ]
  },
  {
   "cell_type": "code",
   "execution_count": 0,
   "metadata": {
    "colab": {
     "base_uri": "https://localhost:8080/",
     "height": 34
    },
    "colab_type": "code",
    "executionInfo": {
     "elapsed": 269533,
     "status": "ok",
     "timestamp": 1588524194006,
     "user": {
      "displayName": "Harshadeep Vattikunta",
      "photoUrl": "https://lh3.googleusercontent.com/a-/AOh14GilWFFCk3AwhK6IoTPhRCX_DvodGy2cb2u8i0GspA=s64",
      "userId": "02200800715866636986"
     },
     "user_tz": -330
    },
    "id": "YtNgEJtQminx",
    "outputId": "1c9aa03a-bd04-46a3-9a52-e028bc31aa5d"
   },
   "outputs": [
    {
     "data": {
      "text/plain": [
       "LinearRegression(copy_X=True, fit_intercept=True, n_jobs=None, normalize=False)"
      ]
     },
     "execution_count": 27,
     "metadata": {
      "tags": []
     },
     "output_type": "execute_result"
    }
   ],
   "source": [
    "#Training the Random Forest Classifer on Train data\n",
    "from sklearn.linear_model import LinearRegression\n",
    "regressor = LinearRegression()\n",
    "regressor.fit(X_opt, y_train)"
   ]
  },
  {
   "cell_type": "code",
   "execution_count": 0,
   "metadata": {
    "colab": {},
    "colab_type": "code",
    "id": "UfF_eJe1mliM"
   },
   "outputs": [],
   "source": [
    "#Predicting the Test data\n",
    "y_pred = regressor.predict(X_test)"
   ]
  },
  {
   "cell_type": "code",
   "execution_count": 0,
   "metadata": {
    "colab": {
     "base_uri": "https://localhost:8080/",
     "height": 68
    },
    "colab_type": "code",
    "executionInfo": {
     "elapsed": 269503,
     "status": "ok",
     "timestamp": 1588524194007,
     "user": {
      "displayName": "Harshadeep Vattikunta",
      "photoUrl": "https://lh3.googleusercontent.com/a-/AOh14GilWFFCk3AwhK6IoTPhRCX_DvodGy2cb2u8i0GspA=s64",
      "userId": "02200800715866636986"
     },
     "user_tz": -330
    },
    "id": "T-FtIzwrmr5B",
    "outputId": "9e102abd-402c-4c7a-943b-a421a08ce010"
   },
   "outputs": [
    {
     "name": "stdout",
     "output_type": "stream",
     "text": [
      "Mean Absolute Error: 209657.11060506917\n",
      "Mean Squared Error: 82274420365.31076\n",
      "Root Mean Squared Error: 286835.17979026\n"
     ]
    }
   ],
   "source": [
    "#Regression Metrics\n",
    "from sklearn.metrics import mean_absolute_error\n",
    "from sklearn.metrics import mean_squared_error\n",
    "print('Mean Absolute Error:', mean_absolute_error(y_test, y_pred))  \n",
    "print('Mean Squared Error:', mean_squared_error(y_test, y_pred))  \n",
    "print('Root Mean Squared Error:', np.sqrt(mean_squared_error(y_test, y_pred)))"
   ]
  },
  {
   "cell_type": "code",
   "execution_count": 0,
   "metadata": {
    "colab": {
     "base_uri": "https://localhost:8080/",
     "height": 34
    },
    "colab_type": "code",
    "executionInfo": {
     "elapsed": 1561,
     "status": "ok",
     "timestamp": 1588524893526,
     "user": {
      "displayName": "Harshadeep Vattikunta",
      "photoUrl": "https://lh3.googleusercontent.com/a-/AOh14GilWFFCk3AwhK6IoTPhRCX_DvodGy2cb2u8i0GspA=s64",
      "userId": "02200800715866636986"
     },
     "user_tz": -330
    },
    "id": "VfDvgM_km4fg",
    "outputId": "7c838fb1-81b2-4f07-8635-7b9cc95f50be"
   },
   "outputs": [
    {
     "name": "stdout",
     "output_type": "stream",
     "text": [
      "r square 71.96686799548215\n"
     ]
    }
   ],
   "source": [
    "#R-Squared\n",
    "print(\"r square :\", regressor.score(X_test, y_test)*100)"
   ]
  }
 ],
 "metadata": {
  "colab": {
   "authorship_tag": "ABX9TyN2l+wWAJFDzfWrLLdV46zS",
   "collapsed_sections": [],
   "name": "2 new.ipynb",
   "provenance": []
  },
  "kernelspec": {
   "display_name": "Python 3",
   "language": "python",
   "name": "python3"
  },
  "language_info": {
   "codemirror_mode": {
    "name": "ipython",
    "version": 3
   },
   "file_extension": ".py",
   "mimetype": "text/x-python",
   "name": "python",
   "nbconvert_exporter": "python",
   "pygments_lexer": "ipython3",
   "version": "3.7.4"
  }
 },
 "nbformat": 4,
 "nbformat_minor": 1
}
